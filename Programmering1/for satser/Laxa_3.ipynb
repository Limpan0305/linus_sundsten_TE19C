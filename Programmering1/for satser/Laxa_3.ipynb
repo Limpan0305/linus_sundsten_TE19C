{
 "metadata": {
  "language_info": {
   "codemirror_mode": {
    "name": "ipython",
    "version": 3
   },
   "file_extension": ".py",
   "mimetype": "text/x-python",
   "name": "python",
   "nbconvert_exporter": "python",
   "pygments_lexer": "ipython3",
   "version": "3.8.3-final"
  },
  "orig_nbformat": 2,
  "kernelspec": {
   "name": "python_defaultSpec_1601465921198",
   "display_name": "Python 3.8.3 64-bit ('base': conda)"
  }
 },
 "nbformat": 4,
 "nbformat_minor": 2,
 "cells": [
  {
   "cell_type": "code",
   "execution_count": 9,
   "metadata": {
    "tags": []
   },
   "outputs": [
    {
     "output_type": "stream",
     "name": "stdout",
     "text": "1 2 3 4 5 6 7 8 9 10 \n\n-11 -10 -9 -8 -7 -6 -5 -4 -3 -2 -1 0 1 2 3 4 5 6 7 8 9 10 \n\n10 9 8 7 6 5 4 3 2 1"
    }
   ],
   "source": [
    "#Uppgift 1a.\n",
    "for i in range(1,11):\n",
    "    print(i, end=\" \")\n",
    "\n",
    "print(\"\\n\")\n",
    "\n",
    "#Uppgift 1b.\n",
    "for i in range(-11,11):\n",
    "    print (i, end=\" \")\n",
    "\n",
    "print(\"\\n\")\n",
    "\n",
    "for i in range(10,0,-1):\n",
    "    print(i, end=\" \")"
   ]
  },
  {
   "cell_type": "code",
   "execution_count": 18,
   "metadata": {
    "tags": []
   },
   "outputs": [
    {
     "output_type": "stream",
     "name": "stdout",
     "text": "Primtal mellan 1 och 100 är:\n1 2 3 5 7 11 13 17 19 23 29 31 37 41 43 47 53 59 61 67 71 73 79 83 89 97"
    }
   ],
   "source": [
    "#Uppgift 2\n",
    "lägre = 1\n",
    "övre = 100\n",
    "\n",
    "print(\"Primtal mellan\", lower, \"och\", upper, \"är:\")\n",
    "\n",
    "for num in range(lägre, övre +1):\n",
    "   # alla primtal är större än 1\n",
    "   if num > 0:\n",
    "       for i in range(2, num):\n",
    "           if (num % i) == 0:\n",
    "               break\n",
    "       else:\n",
    "           print(num, end=\" \")"
   ]
  },
  {
   "cell_type": "code",
   "execution_count": 56,
   "metadata": {
    "tags": []
   },
   "outputs": [
    {
     "output_type": "stream",
     "name": "stdout",
     "text": "5050\n"
    }
   ],
   "source": [
    "#Uppgift 3\n",
    "s = 0\n",
    "\n",
    "for i in range(1,101):\n",
    "     s += i\n",
    "print(s)\n",
    "   "
   ]
  },
  {
   "cell_type": "code",
   "execution_count": 49,
   "metadata": {
    "tags": []
   },
   "outputs": [
    {
     "output_type": "stream",
     "name": "stdout",
     "text": "4950\n"
    }
   ],
   "source": [
    "#Uppgift 4\n",
    "s = 0\n",
    "\n",
    "for i in range(1,100):\n",
    "    s += i\n",
    "print(s)"
   ]
  },
  {
   "cell_type": "code",
   "execution_count": 5,
   "metadata": {
    "tags": []
   },
   "outputs": [
    {
     "output_type": "error",
     "ename": "SyntaxError",
     "evalue": "invalid syntax (<ipython-input-5-c6132335c0c1>, line 21)",
     "traceback": [
      "\u001b[1;36m  File \u001b[1;32m\"<ipython-input-5-c6132335c0c1>\"\u001b[1;36m, line \u001b[1;32m21\u001b[0m\n\u001b[1;33m    for j in range(11)\u001b[0m\n\u001b[1;37m                      ^\u001b[0m\n\u001b[1;31mSyntaxError\u001b[0m\u001b[1;31m:\u001b[0m invalid syntax\n"
     ]
    }
   ],
   "source": [
    "#Uppgift 5a\n",
    "s = 0\n",
    "\n",
    "for i in range(0,11): \n",
    "    s = 5*i  \n",
    "    print(s, end=\" \")\n",
    "\n",
    "print(\"\\n\")\n",
    "\n",
    "#Uppgift 5b\n",
    "t = int(input(\"Skriv en multiplikationstabell\"))\n",
    "b = int(input(\"Start för en tabell\"))\n",
    "e = int(input(\"Slut för tabellen\"))\n",
    "\n",
    "for i in range(b,e):\n",
    "    s = i*t\n",
    "    print(s, end=\" \")\n",
    "\n",
    "#Uppgift 5c\n",
    "for i in range(11):\n",
    "    for j in range(11)\n",
    "        print(, end=\" \")"
   ]
  },
  {
   "cell_type": "code",
   "execution_count": null,
   "metadata": {},
   "outputs": [],
   "source": [
    "#Uppgift 6"
   ]
  }
 ]
}