{
 "metadata": {
  "language_info": {
   "codemirror_mode": {
    "name": "ipython",
    "version": 3
   },
   "file_extension": ".py",
   "mimetype": "text/x-python",
   "name": "python",
   "nbconvert_exporter": "python",
   "pygments_lexer": "ipython3",
   "version": "3.8.3-final"
  },
  "orig_nbformat": 2,
  "kernelspec": {
   "name": "python_defaultSpec_1600861287626",
   "display_name": "Python 3.8.3 64-bit ('base': conda)"
  }
 },
 "nbformat": 4,
 "nbformat_minor": 2,
 "cells": [
  {
   "cell_type": "code",
   "execution_count": 9,
   "metadata": {
    "tags": []
   },
   "outputs": [
    {
     "output_type": "stream",
     "name": "stdout",
     "text": "1 2 3 4 5 6 7 8 9 10 \n\n-11 -10 -9 -8 -7 -6 -5 -4 -3 -2 -1 0 1 2 3 4 5 6 7 8 9 10 \n\n10 9 8 7 6 5 4 3 2 1"
    }
   ],
   "source": [
    "#Uppgift 1a.\n",
    "for i in range(1,11):\n",
    "    print(i, end=\" \")\n",
    "\n",
    "print(\"\\n\")\n",
    "\n",
    "#Uppgift 1b.\n",
    "for i in range(-11,11):\n",
    "    print (i, end=\" \")\n",
    "\n",
    "print(\"\\n\")\n",
    "\n",
    "for i in range(10,0,-1):\n",
    "    print(i, end=\" \")"
   ]
  },
  {
   "cell_type": "code",
   "execution_count": 18,
   "metadata": {
    "tags": []
   },
   "outputs": [
    {
     "output_type": "stream",
     "name": "stdout",
     "text": "Primtal mellan 1 och 100 är:\n1 2 3 5 7 11 13 17 19 23 29 31 37 41 43 47 53 59 61 67 71 73 79 83 89 97"
    }
   ],
   "source": [
    "#Uppgift 2\n",
    "lägre = 1\n",
    "övre = 100\n",
    "\n",
    "print(\"Primtal mellan\", lower, \"och\", upper, \"är:\")\n",
    "\n",
    "for num in range(lägre, övre +1):\n",
    "   # alla primtal är större än 1\n",
    "   if num > 0:\n",
    "       for i in range(2, num):\n",
    "           if (num % i) == 0:\n",
    "               break\n",
    "       else:\n",
    "           print(num, end=\" \")"
   ]
  },
  {
   "cell_type": "code",
   "execution_count": 35,
   "metadata": {
    "tags": []
   },
   "outputs": [
    {
     "output_type": "stream",
     "name": "stdout",
     "text": "5050\n"
    }
   ],
   "source": [
    "#Uppgift 4\n",
    "s = 0\n",
    "\n",
    "for i in range(1,101):\n",
    "    s += i\n",
    "print(s)"
   ]
  }
 ]
}