{
 "metadata": {
  "language_info": {
   "codemirror_mode": {
    "name": "ipython",
    "version": 3
   },
   "file_extension": ".py",
   "mimetype": "text/x-python",
   "name": "python",
   "nbconvert_exporter": "python",
   "pygments_lexer": "ipython3",
   "version": "3.8.3-final"
  },
  "orig_nbformat": 2,
  "kernelspec": {
   "name": "python3",
   "display_name": "Python 3"
  }
 },
 "nbformat": 4,
 "nbformat_minor": 2,
 "cells": [
  {
   "source": [
    "## Strängar i python\n",
    "#### indexeringsoperatorn\n",
    "#### skivoperatorn\n",
    "#### konkatenering\n",
    "#### escape-sekvenser\n",
    "#### strängmanipulering"
   ],
   "cell_type": "markdown",
   "metadata": {}
  },
  {
   "cell_type": "code",
   "execution_count": 10,
   "metadata": {},
   "outputs": [
    {
     "output_type": "stream",
     "name": "stdout",
     "text": [
      "namn: Linus Sundsten\nÅlder: 17\nTelefon: 112\n"
     ]
    }
   ],
   "source": [
    "förnamn = \"Linus\"\n",
    "efternamn = \"Sundsten\"\n",
    "\n",
    "#konkatenering (addera strängarna)\n",
    "namn = förnamn + \" \" + efternamn\n",
    "ålder = \"17\"\n",
    "adress = \"Kronhusgatan\"\n",
    "telefon = 112\n",
    "\n",
    "personuppg = \"namn: \" + namn + \"\\n\" + \"Ålder: \" + ålder + \"\\n\" + \"Telefon: \" +str(telefon)\n",
    "\n",
    "print(personuppg)"
   ]
  },
  {
   "source": [
    "## Indexering"
   ],
   "cell_type": "markdown",
   "metadata": {}
  },
  {
   "cell_type": "code",
   "execution_count": 15,
   "metadata": {},
   "outputs": [
    {
     "output_type": "stream",
     "name": "stdout",
     "text": [
      "Alfabetet innehåller 29 bokstäver\nBokstav på index 0: a\nBokstav på index -2: ä\nBokstav på index 6: g\nAlfabetet baklänges: öäåzyxwvutseqponmlkjihgfedcba\n"
     ]
    }
   ],
   "source": [
    "alfabet = \"abcdefghijklmnopqestuvwxyzåäö\"\n",
    "\n",
    "#len() funktion - gerlängd av ett fält/array/lista\n",
    "print(f\"Alfabetet innehåller {len(alfabet)} bokstäver\")\n",
    "\n",
    "#indexera\n",
    "print(f\"Bokstav på index 0: {alfabet[0]}\")\n",
    "print(f\"Bokstav på index -2: {alfabet[-2]}\")\n",
    "print(f\"Bokstav på index 6: {alfabet[6]}\")\n",
    "print(f\"Alfabetet baklänges: {alfabet[::-1]}\")\n"
   ]
  },
  {
   "source": [
    "## split()"
   ],
   "cell_type": "markdown",
   "metadata": {}
  },
  {
   "cell_type": "code",
   "execution_count": 21,
   "metadata": {},
   "outputs": [
    {
     "output_type": "stream",
     "name": "stdout",
     "text": [
      "['Matematik', 'Programmering', 'Teknik', 'Webbutveckling', 'Fysik']\n['lasagne', ' korv', ' grönsaker', ' kebab', ' ris']\nJag älskar att äta lasagne\nJag älskar att äta  korv\nJag älskar att äta  grönsaker\nJag älskar att äta  kebab\nJag älskar att äta  ris\n"
     ]
    }
   ],
   "source": [
    "favoritämnen = \"Matematik Programmering Teknik Webbutveckling Fysik\"\n",
    "favoritmat = \"lasagne, korv, grönsaker, kebab, ris\"\n",
    "#split separerar en sträng\n",
    "favoritämnen = favoritämnen.split()\n",
    "favoritmat = favoritmat.split(\",\")\n",
    "print(favoritämnen)\n",
    "print(favoritmat)\n",
    "\n",
    "for mat in favoritmat:\n",
    "    print(f\"Jag älskar att äta {mat}\")"
   ]
  }
 ]
}