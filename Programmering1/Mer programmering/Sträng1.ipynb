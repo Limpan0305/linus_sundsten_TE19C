{
 "metadata": {
  "language_info": {
   "codemirror_mode": {
    "name": "ipython",
    "version": 3
   },
   "file_extension": ".py",
   "mimetype": "text/x-python",
   "name": "python",
   "nbconvert_exporter": "python",
   "pygments_lexer": "ipython3",
   "version": "3.8.3-final"
  },
  "orig_nbformat": 2,
  "kernelspec": {
   "name": "python3",
   "display_name": "Python 3"
  }
 },
 "nbformat": 4,
 "nbformat_minor": 2,
 "cells": [
  {
   "source": [
    "#Strängar\n",
    "## 1"
   ],
   "cell_type": "markdown",
   "metadata": {}
  },
  {
   "cell_type": "code",
   "execution_count": 9,
   "metadata": {},
   "outputs": [
    {
     "output_type": "stream",
     "name": "stdout",
     "text": [
      "Namnet linus innehåller 5 bokstäver\n"
     ]
    }
   ],
   "source": [
    "namn = input(\"Vad heter du?\")\n",
    "\n",
    "print(f\"Namnet {namn} innehåller {len(namn)} bokstäver\")"
   ]
  },
  {
   "source": [
    "## 2"
   ],
   "cell_type": "markdown",
   "metadata": {}
  },
  {
   "cell_type": "code",
   "execution_count": 10,
   "metadata": {},
   "outputs": [
    {
     "output_type": "stream",
     "name": "stdout",
     "text": [
      "Antal ord i meningen är 15\n"
     ]
    }
   ],
   "source": [
    "mening = \"En bild säger mer än tusen ord, en matematisk formel säger men än tusen bilder\"\n",
    "mening = mening.split()\n",
    "print (f\"Antal ord i meningen är {len(mening)}\")"
   ]
  },
  {
   "source": [
    "## 3"
   ],
   "cell_type": "markdown",
   "metadata": {}
  },
  {
   "cell_type": "code",
   "execution_count": null,
   "metadata": {},
   "outputs": [],
   "source": [
    "ord = input(\"Mata in en följd av tecken utan mellanslag och skiljetecken\")\n"
   ]
  }
 ]
}