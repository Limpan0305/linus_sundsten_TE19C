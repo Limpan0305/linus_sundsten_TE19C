{
 "metadata": {
  "language_info": {
   "codemirror_mode": {
    "name": "ipython",
    "version": 3
   },
   "file_extension": ".py",
   "mimetype": "text/x-python",
   "name": "python",
   "nbconvert_exporter": "python",
   "pygments_lexer": "ipython3",
   "version": "3.8.3-final"
  },
  "orig_nbformat": 2,
  "kernelspec": {
   "name": "python3",
   "display_name": "Python 3",
   "language": "python"
  }
 },
 "nbformat": 4,
 "nbformat_minor": 2,
 "cells": [
  {
   "source": [
    "#Strängar\n",
    "## 1"
   ],
   "cell_type": "markdown",
   "metadata": {}
  },
  {
   "cell_type": "code",
   "execution_count": 9,
   "metadata": {},
   "outputs": [
    {
     "output_type": "stream",
     "name": "stdout",
     "text": [
      "Namnet linus innehåller 5 bokstäver\n"
     ]
    }
   ],
   "source": [
    "namn = input(\"Vad heter du?\")\n",
    "\n",
    "print(f\"Namnet {namn} innehåller {len(namn)} bokstäver\")"
   ]
  },
  {
   "source": [
    "## 2"
   ],
   "cell_type": "markdown",
   "metadata": {}
  },
  {
   "cell_type": "code",
   "execution_count": 10,
   "metadata": {},
   "outputs": [
    {
     "output_type": "stream",
     "name": "stdout",
     "text": [
      "Antal ord i meningen är 15\n"
     ]
    }
   ],
   "source": [
    "mening = \"En bild säger mer än tusen ord, en matematisk formel säger men än tusen bilder\"\n",
    "mening = mening.split()\n",
    "print (f\"Antal ord i meningen är {len(mening)}\")"
   ]
  },
  {
   "source": [
    "## 3a"
   ],
   "cell_type": "markdown",
   "metadata": {}
  },
  {
   "cell_type": "code",
   "execution_count": 4,
   "metadata": {},
   "outputs": [
    {
     "output_type": "stream",
     "name": "stdout",
     "text": [
      "Det är inte ett palindrom\n"
     ]
    }
   ],
   "source": [
    "ord = input(\"Mata in en följd av tecken utan mellanslag och skiljetecken\")\n",
    "if ord[::-1] == ord:\n",
    "    print(\"Det är ett palindrom\")\n",
    "else:\n",
    "    print(\"Det är inte ett palindrom\")"
   ]
  },
  {
   "source": [
    "## 3b"
   ],
   "cell_type": "markdown",
   "metadata": {}
  },
  {
   "cell_type": "code",
   "execution_count": 3,
   "metadata": {},
   "outputs": [
    {
     "output_type": "stream",
     "name": "stdout",
     "text": [
      "Det är ett palindrom\n"
     ]
    }
   ],
   "source": [
    "mening = input(\"Mata in en mening av tecken med mellanslag och skiljetecken\")\n",
    "mening = mening.replace (\" \", \"\")\n",
    "mening = mening.replace (\",\", \"\")\n",
    "mening = mening.replace (\".\", \"\")\n",
    "\n",
    "if mening[::-1] == mening:\n",
    "    print(\"Det är ett palindrom\")\n",
    "else:\n",
    "    print(\"Det är inte ett palindrom\")"
   ]
  },
  {
   "source": [
    "## 4a"
   ],
   "cell_type": "markdown",
   "metadata": {}
  },
  {
   "cell_type": "code",
   "execution_count": 4,
   "metadata": {},
   "outputs": [
    {
     "output_type": "stream",
     "name": "stdout",
     "text": [
      "Antalet vokaler är 76\n"
     ]
    }
   ],
   "source": [
    "mening = \"Do not worry about your difficulties in Mathematics. I can assure you mine are still greater\"\n",
    "mening = mening.replace(\" \", \"\")\n",
    "mening = mening.replace (\".\", \"\")\n",
    "\n",
    "print(f\"Antalet  är {lebokstävern(mening)}\")"
   ]
  }
 ]
}