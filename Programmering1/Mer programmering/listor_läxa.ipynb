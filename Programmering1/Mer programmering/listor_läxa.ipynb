{
 "metadata": {
  "language_info": {
   "codemirror_mode": {
    "name": "ipython",
    "version": 3
   },
   "file_extension": ".py",
   "mimetype": "text/x-python",
   "name": "python",
   "nbconvert_exporter": "python",
   "pygments_lexer": "ipython3",
   "version": "3.8.3-final"
  },
  "orig_nbformat": 2,
  "kernelspec": {
   "name": "python3",
   "display_name": "Python 3"
  }
 },
 "nbformat": 4,
 "nbformat_minor": 2,
 "cells": [
  {
   "source": [
    "## 1a"
   ],
   "cell_type": "markdown",
   "metadata": {}
  },
  {
   "cell_type": "code",
   "execution_count": 21,
   "metadata": {},
   "outputs": [
    {
     "output_type": "stream",
     "name": "stdout",
     "text": [
      "[1, 3, 3, 3, 3, 4, 4, 5, 5, 5]\n"
     ]
    }
   ],
   "source": [
    "import random as rnd\n",
    "\n",
    "lista = []\n",
    "\n",
    "for i in range (1,11):\n",
    "  n = rnd.randint(1,6)\n",
    "  lista.append(n)\n",
    "  lista.sort()\n",
    "\n",
    "print(lista)\n"
   ]
  },
  {
   "source": [
    "## 1b"
   ],
   "cell_type": "markdown",
   "metadata": {}
  },
  {
   "cell_type": "code",
   "execution_count": 53,
   "metadata": {},
   "outputs": [
    {
     "output_type": "stream",
     "name": "stdout",
     "text": [
      "[1, 4, 2, 4, 1, 6, 6, 3, 5, 6]\n"
     ]
    }
   ],
   "source": [
    "import random\n",
    "\n",
    "lista = []\n",
    "\n",
    "for i in range (1,11):\n",
    "  n = random.randint(1,6)\n",
    "  lista.append(n)\n",
    "  lista.reverse()\n",
    "\n",
    "print(lista)\n",
    "\n"
   ]
  }
 ]
}