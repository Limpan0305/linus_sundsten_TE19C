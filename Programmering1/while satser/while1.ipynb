{
 "metadata": {
  "language_info": {
   "codemirror_mode": {
    "name": "ipython",
    "version": 3
   },
   "file_extension": ".py",
   "mimetype": "text/x-python",
   "name": "python",
   "nbconvert_exporter": "python",
   "pygments_lexer": "ipython3",
   "version": "3.8.3-final"
  },
  "orig_nbformat": 2,
  "kernelspec": {
   "name": "Python 3.8.3 64-bit ('base': conda)",
   "display_name": "Python 3.8.3 64-bit ('base': conda)",
   "metadata": {
    "interpreter": {
     "hash": "8f4b7e7bd44cf3a98f2b8880affc164a366bad1c9eb8125263ff76f92c3f7206"
    }
   }
  }
 },
 "nbformat": 4,
 "nbformat_minor": 2,
 "cells": [
  {
   "source": [
    "# While-sats\n",
    "\n",
    "Kod upprepas så länge vilkoret gäller\n",
    "\n",
    "for-sats: kod upprepas ett bestämt antal gånger"
   ],
   "cell_type": "markdown",
   "metadata": {
    "tags": []
   }
  },
  {
   "cell_type": "code",
   "execution_count": 18,
   "metadata": {
    "tags": []
   },
   "outputs": [
    {
     "output_type": "stream",
     "name": "stdout",
     "text": "jämna tal från 1-10\n0 2 4 6 8 10 "
    }
   ],
   "source": [
    "print(\"jämna tal från 1-10\")\n",
    "n = 0\n",
    "while n <= 10:\n",
    "    print(n, end =\" \")\n",
    "    n += 2\n",
    "    \n"
   ]
  },
  {
   "source": [
    "# Miljöutsläpp\n",
    "\n",
    "Ett miljöutsläpp halverar vår fågelpopulation på en ö varje år\n",
    "\n",
    "Fågelppopulationen började på 8000st\n",
    "\n",
    "Hur många år tar det tills populationen blir mindre än en tiondel\n"
   ],
   "cell_type": "markdown",
   "metadata": {}
  },
  {
   "cell_type": "code",
   "execution_count": 1,
   "metadata": {
    "tags": []
   },
   "outputs": [
    {
     "output_type": "stream",
     "name": "stdout",
     "text": "År 0: antal fårlar: 8000st\nÅr 1: antal fåglar: 4000.0st\nÅr 2: antal fåglar: 2000.0st\nÅr 3: antal fåglar: 1000.0st\nÅr 4: antal fåglar: 500.0st\nDet tar 4 år tills fågelpopulationen blir mindre än en tiondel\n"
    }
   ],
   "source": [
    "p = 8000\n",
    "år = 0\n",
    "\n",
    "print(f\"År {år}: antal fårlar: {p}st\")\n",
    "\n",
    "while p >= 800:\n",
    "    p /= 2\n",
    "    år += 1\n",
    "    print(f\"År {år}: antal fåglar: {p}st\")\n",
    "\n",
    "print(f\"Det tar {4} år tills fågelpopulationen blir mindre än en tiondel\")"
   ]
  },
  {
   "source": [
    "n = 1 #räknarvariabel\n",
    "'''\n",
    "while n < 10:\n",
    "    print(n, end=\" \")\n",
    "    n = n + 1\n",
    "    #n += 1\n",
    "'''\n",
    "summa = 0\n",
    "while n < 10:\n",
    "    summa = summa + n\n",
    "    n += 2\n",
    "\n",
    "print(f\"1+2+3--+8+9 = {summa}\")"
   ],
   "cell_type": "code",
   "metadata": {},
   "execution_count": 1,
   "outputs": [
    {
     "output_type": "stream",
     "name": "stdout",
     "text": [
      "1+2+3--+8+9 = 25\n"
     ]
    }
   ]
  },
  {
   "cell_type": "code",
   "execution_count": 8,
   "metadata": {
    "tags": []
   },
   "outputs": [
    {
     "output_type": "stream",
     "name": "stdout",
     "text": [
      "5050\n"
     ]
    }
   ],
   "source": [
    "#Uppgift 1\n",
    "\n",
    "summa = 0\n",
    "n = 0\n",
    "\n",
    "while summa <= 99:\n",
    "    summa += 1\n",
    "    n += summa\n",
    "print(n)"
   ]
  },
  {
   "cell_type": "code",
   "execution_count": 11,
   "metadata": {
    "tags": []
   },
   "outputs": [
    {
     "output_type": "stream",
     "name": "stdout",
     "text": [
      "1+3+5...+97+99 = 2500\n"
     ]
    }
   ],
   "source": [
    "#Uppgift 2\n",
    "\n",
    "summa = 0\n",
    "nummer = 1\n",
    "\n",
    "while nummer < 100:\n",
    "    summa = summa + nummer\n",
    "    nummer += 2\n",
    "print(f\"1+3+5...+97+99 = {summa}\")"
   ]
  },
  {
   "cell_type": "code",
   "execution_count": 15,
   "metadata": {},
   "outputs": [
    {
     "output_type": "stream",
     "name": "stdout",
     "text": [
      "1.9990234375\n"
     ]
    }
   ],
   "source": [
    "#Uppgift 3\n",
    "n = 0\n",
    "summa = 0\n",
    "while n <= 10:\n",
    "    summa += 2**(-n)\n",
    "    n = n + 1\n",
    "print(f\"{summa}\")\n"
   ]
  },
  {
   "cell_type": "code",
   "execution_count": 21,
   "metadata": {
    "tags": []
   },
   "outputs": [
    {
     "output_type": "error",
     "ename": "NameError",
     "evalue": "name 'sant' is not defined",
     "traceback": [
      "\u001b[1;31m---------------------------------------------------------------------------\u001b[0m",
      "\u001b[1;31mNameError\u001b[0m                                 Traceback (most recent call last)",
      "\u001b[1;32m<ipython-input-21-a2aebdf22822>\u001b[0m in \u001b[0;36m<module>\u001b[1;34m\u001b[0m\n\u001b[0;32m      2\u001b[0m \u001b[1;32mimport\u001b[0m \u001b[0mrandom\u001b[0m \u001b[1;32mas\u001b[0m \u001b[0mrnd\u001b[0m\u001b[1;33m\u001b[0m\u001b[1;33m\u001b[0m\u001b[0m\n\u001b[0;32m      3\u001b[0m \u001b[0mrnd\u001b[0m\u001b[1;33m.\u001b[0m\u001b[0mrandint\u001b[0m\u001b[1;33m(\u001b[0m\u001b[1;36m0\u001b[0m\u001b[1;33m,\u001b[0m\u001b[1;36m100\u001b[0m\u001b[1;33m)\u001b[0m\u001b[1;33m\u001b[0m\u001b[1;33m\u001b[0m\u001b[0m\n\u001b[1;32m----> 4\u001b[1;33m \u001b[1;32mwhile\u001b[0m \u001b[0msant\u001b[0m\u001b[1;33m:\u001b[0m\u001b[1;33m\u001b[0m\u001b[1;33m\u001b[0m\u001b[0m\n\u001b[0m\u001b[0;32m      5\u001b[0m     \u001b[0mprint\u001b[0m\u001b[1;33m(\u001b[0m\u001b[1;34m\"Gissa på ett nummer mellan 1 och 100\"\u001b[0m\u001b[1;33m)\u001b[0m\u001b[1;33m\u001b[0m\u001b[1;33m\u001b[0m\u001b[0m\n\u001b[0;32m      6\u001b[0m     \u001b[0mgissa\u001b[0m \u001b[1;33m=\u001b[0m \u001b[1;33m(\u001b[0m\u001b[1;33m)\u001b[0m\u001b[1;33m\u001b[0m\u001b[1;33m\u001b[0m\u001b[0m\n",
      "\u001b[1;31mNameError\u001b[0m: name 'sant' is not defined"
     ]
    }
   ],
   "source": [
    "#Uppgift 5\n",
    "import random as rnd\n",
    "rnd.randint(0,100)\n",
    "while sant:\n",
    "    print(\"Gissa på ett nummer mellan 1 och 100\")\n",
    "    \n"
   ]
  }
 ]
}