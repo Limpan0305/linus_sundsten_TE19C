{
 "metadata": {
  "language_info": {
   "codemirror_mode": {
    "name": "ipython",
    "version": 3
   },
   "file_extension": ".py",
   "mimetype": "text/x-python",
   "name": "python",
   "nbconvert_exporter": "python",
   "pygments_lexer": "ipython3",
   "version": "3.8.3-final"
  },
  "orig_nbformat": 2,
  "kernelspec": {
   "name": "python3",
   "display_name": "Python 3",
   "language": "python"
  }
 },
 "nbformat": 4,
 "nbformat_minor": 2,
 "cells": [
  {
   "source": [
    "## Uppg 1."
   ],
   "cell_type": "markdown",
   "metadata": {}
  },
  {
   "source": [
    " Efter 4 år\n"
   ],
   "cell_type": "markdown",
   "metadata": {}
  },
  {
   "source": [
    "## Uppg 2."
   ],
   "cell_type": "markdown",
   "metadata": {}
  },
  {
   "cell_type": "code",
   "execution_count": null,
   "metadata": {},
   "outputs": [],
   "source": [
    "import matplotlib.pyplot as plt\n",
    "def f(x):\n",
    "    return x**2 - 3*x +1\n",
    "\n",
    "x = [i for i in range(10)]\n",
    "plt.plot/x,f(X))\n",
    "plt.xlabel(\"x\")\n",
    "plt.yla"
   ]
  },
  {
   "cell_type": "code",
   "execution_count": null,
   "metadata": {},
   "outputs": [],
   "source": []
  },
  {
   "source": [
    "## Uppg 3"
   ],
   "cell_type": "markdown",
   "metadata": {}
  },
  {
   "cell_type": "code",
   "execution_count": 26,
   "metadata": {},
   "outputs": [
    {
     "output_type": "execute_result",
     "data": {
      "text/plain": [
       "4.333333333333333"
      ]
     },
     "metadata": {},
     "execution_count": 26
    }
   ],
   "source": [
    "def medel(x,y,z):\n",
    "    medelsumma = (x + y + z) /3\n",
    "    return medelsumma\n",
    "\n",
    "medel(1,2,10)"
   ]
  },
  {
   "source": [
    "## Uppg 4"
   ],
   "cell_type": "markdown",
   "metadata": {}
  },
  {
   "cell_type": "code",
   "execution_count": 37,
   "metadata": {},
   "outputs": [
    {
     "output_type": "stream",
     "name": "stdout",
     "text": [
      "33.49333333333333\n"
     ]
    }
   ],
   "source": [
    "r = float(input(\"Skriv en radie för sfären\"))\n",
    "\n",
    "def sfär(r):\n",
    "    volym = (4 * 3.14 * r**3) /3\n",
    "    return volym\n",
    "\n",
    "print(sfär(r))    "
   ]
  },
  {
   "source": [
    "## Uppg 5"
   ],
   "cell_type": "markdown",
   "metadata": {}
  },
  {
   "cell_type": "code",
   "execution_count": 42,
   "metadata": {},
   "outputs": [
    {
     "output_type": "stream",
     "name": "stdout",
     "text": [
      "Antal ord i text: 4\n"
     ]
    }
   ],
   "source": [
    "text = (input(\"Skriv en mening så räknar programmet ut antal ord\"))\n",
    "\n",
    "def räkna_ord (text):\n",
    "    ord = text.split()\n",
    "    antal_ord = len(ord)\n",
    "    return antal_ord\n",
    "\n",
    "print(f\"Antal ord i text: {räkna_ord(text)}\")"
   ]
  },
  {
   "source": [
    "## Uppg 6"
   ],
   "cell_type": "markdown",
   "metadata": {}
  },
  {
   "cell_type": "code",
   "execution_count": null,
   "metadata": {},
   "outputs": [],
   "source": []
  }
 ]
}