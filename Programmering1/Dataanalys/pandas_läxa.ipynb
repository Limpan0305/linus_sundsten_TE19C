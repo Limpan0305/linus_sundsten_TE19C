{
 "metadata": {
  "language_info": {
   "codemirror_mode": {
    "name": "ipython",
    "version": 3
   },
   "file_extension": ".py",
   "mimetype": "text/x-python",
   "name": "python",
   "nbconvert_exporter": "python",
   "pygments_lexer": "ipython3",
   "version": "3.8.3-final"
  },
  "orig_nbformat": 2,
  "kernelspec": {
   "name": "python3",
   "display_name": "Python 3.8.3 64-bit ('linus.sundsten': virtualenv)",
   "metadata": {
    "interpreter": {
     "hash": "8f4b7e7bd44cf3a98f2b8880affc164a366bad1c9eb8125263ff76f92c3f7206"
    }
   }
  }
 },
 "nbformat": 4,
 "nbformat_minor": 2,
 "cells": [
  {
   "cell_type": "code",
   "execution_count": 39,
   "metadata": {},
   "outputs": [],
   "source": [
    "#1a\n",
    "import pandas as pd\n",
    "\n",
    "df = pd.read_csv(\"sysselsattning.csv\", encoding = \"ISO-8859-1\", header = 1)\n",
    "\n",
    "df_U = df[df[\"sysselsättning\"]==\"förvärvsarbetande\"]\n",
    "\n",
    "df[\"2019\"] = df.sum()\n",
    "\n"
   ]
  },
  {
   "cell_type": "code",
   "execution_count": 18,
   "metadata": {},
   "outputs": [
    {
     "output_type": "execute_result",
     "data": {
      "text/plain": [
       "          sysselsättning     ålder      kön    2019\n",
       "12  ej förvärvsarbetande  16-19 år      män  176860\n",
       "13  ej förvärvsarbetande  16-19 år  kvinnor  143432\n",
       "14  ej förvärvsarbetande  20-24 år      män  117928\n",
       "15  ej förvärvsarbetande  20-24 år  kvinnor  103001\n",
       "16  ej förvärvsarbetande  25-29 år      män   86633\n",
       "17  ej förvärvsarbetande  25-29 år  kvinnor   91124\n",
       "18  ej förvärvsarbetande  30-34 år      män   64162\n",
       "19  ej förvärvsarbetande  30-34 år  kvinnor   76735\n",
       "20  ej förvärvsarbetande  35-39 år      män   53373\n",
       "21  ej förvärvsarbetande  35-39 år  kvinnor   61312\n",
       "22  ej förvärvsarbetande  40-44 år      män   46857\n",
       "23  ej förvärvsarbetande  40-44 år  kvinnor   49228"
      ],
      "text/html": "<div>\n<style scoped>\n    .dataframe tbody tr th:only-of-type {\n        vertical-align: middle;\n    }\n\n    .dataframe tbody tr th {\n        vertical-align: top;\n    }\n\n    .dataframe thead th {\n        text-align: right;\n    }\n</style>\n<table border=\"1\" class=\"dataframe\">\n  <thead>\n    <tr style=\"text-align: right;\">\n      <th></th>\n      <th>sysselsättning</th>\n      <th>ålder</th>\n      <th>kön</th>\n      <th>2019</th>\n    </tr>\n  </thead>\n  <tbody>\n    <tr>\n      <th>12</th>\n      <td>ej förvärvsarbetande</td>\n      <td>16-19 år</td>\n      <td>män</td>\n      <td>176860</td>\n    </tr>\n    <tr>\n      <th>13</th>\n      <td>ej förvärvsarbetande</td>\n      <td>16-19 år</td>\n      <td>kvinnor</td>\n      <td>143432</td>\n    </tr>\n    <tr>\n      <th>14</th>\n      <td>ej förvärvsarbetande</td>\n      <td>20-24 år</td>\n      <td>män</td>\n      <td>117928</td>\n    </tr>\n    <tr>\n      <th>15</th>\n      <td>ej förvärvsarbetande</td>\n      <td>20-24 år</td>\n      <td>kvinnor</td>\n      <td>103001</td>\n    </tr>\n    <tr>\n      <th>16</th>\n      <td>ej förvärvsarbetande</td>\n      <td>25-29 år</td>\n      <td>män</td>\n      <td>86633</td>\n    </tr>\n    <tr>\n      <th>17</th>\n      <td>ej förvärvsarbetande</td>\n      <td>25-29 år</td>\n      <td>kvinnor</td>\n      <td>91124</td>\n    </tr>\n    <tr>\n      <th>18</th>\n      <td>ej förvärvsarbetande</td>\n      <td>30-34 år</td>\n      <td>män</td>\n      <td>64162</td>\n    </tr>\n    <tr>\n      <th>19</th>\n      <td>ej förvärvsarbetande</td>\n      <td>30-34 år</td>\n      <td>kvinnor</td>\n      <td>76735</td>\n    </tr>\n    <tr>\n      <th>20</th>\n      <td>ej förvärvsarbetande</td>\n      <td>35-39 år</td>\n      <td>män</td>\n      <td>53373</td>\n    </tr>\n    <tr>\n      <th>21</th>\n      <td>ej förvärvsarbetande</td>\n      <td>35-39 år</td>\n      <td>kvinnor</td>\n      <td>61312</td>\n    </tr>\n    <tr>\n      <th>22</th>\n      <td>ej förvärvsarbetande</td>\n      <td>40-44 år</td>\n      <td>män</td>\n      <td>46857</td>\n    </tr>\n    <tr>\n      <th>23</th>\n      <td>ej förvärvsarbetande</td>\n      <td>40-44 år</td>\n      <td>kvinnor</td>\n      <td>49228</td>\n    </tr>\n  </tbody>\n</table>\n</div>"
     },
     "metadata": {},
     "execution_count": 18
    }
   ],
   "source": [
    "#1b\n",
    "df_U = df[df[\"sysselsättning\"]==\"ej förvärvsarbetande\"]\n",
    "df_U"
   ]
  }
 ]
}