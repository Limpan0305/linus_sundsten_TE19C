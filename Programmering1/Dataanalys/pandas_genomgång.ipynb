{
 "metadata": {
  "language_info": {
   "codemirror_mode": {
    "name": "ipython",
    "version": 3
   },
   "file_extension": ".py",
   "mimetype": "text/x-python",
   "name": "python",
   "nbconvert_exporter": "python",
   "pygments_lexer": "ipython3",
   "version": "3.8.3-final"
  },
  "orig_nbformat": 2,
  "kernelspec": {
   "name": "python3",
   "display_name": "Python 3.8.3 64-bit (conda)",
   "metadata": {
    "interpreter": {
     "hash": "8f4b7e7bd44cf3a98f2b8880affc164a366bad1c9eb8125263ff76f92c3f7206"
    }
   }
  }
 },
 "nbformat": 4,
 "nbformat_minor": 2,
 "cells": [
  {
   "cell_type": "code",
   "execution_count": 26,
   "metadata": {},
   "outputs": [
    {
     "output_type": "execute_result",
     "data": {
      "text/plain": [
       "    Elev  Uppg 1  Uppg 2  Uppg 3  Uppg 4  Uppg 5  Total      Betyg\n",
       "0    Ada     3.0     0.0     2.0     3.0     0.0    8.0    Godkänd\n",
       "1   Beda     2.0     3.0     1.0     3.0     3.0   12.0    Godkänd\n",
       "2   Ceda     3.0     1.0     0.0     1.0     0.0    5.0  Underkänd\n",
       "3   Deda     0.0     2.0     0.0     3.0     3.0    8.0    Godkänd\n",
       "4    Eda     2.0     1.0     2.0     1.0     3.0    9.0    Godkänd\n",
       "5   Feda     0.0     0.0     0.0     0.0     0.0    0.0  Underkänd\n",
       "6   Geda     3.0     1.0     1.0     2.0     3.0   10.0    Godkänd\n",
       "7   Heda     0.0     1.0     0.0     1.0     3.0    5.0  Underkänd\n",
       "8    Ida     2.0     1.0     2.0     2.0     3.0   10.0    Godkänd\n",
       "9   Keda     2.0     2.0     1.0     0.0     2.0    7.0  Underkänd\n",
       "10  Leda     3.0     1.0     2.0     1.0     3.0   10.0    Godkänd\n",
       "11  Meda     0.0     2.0     0.0     1.0     1.0    4.0  Underkänd"
      ],
      "text/html": "<div>\n<style scoped>\n    .dataframe tbody tr th:only-of-type {\n        vertical-align: middle;\n    }\n\n    .dataframe tbody tr th {\n        vertical-align: top;\n    }\n\n    .dataframe thead th {\n        text-align: right;\n    }\n</style>\n<table border=\"1\" class=\"dataframe\">\n  <thead>\n    <tr style=\"text-align: right;\">\n      <th></th>\n      <th>Elev</th>\n      <th>Uppg 1</th>\n      <th>Uppg 2</th>\n      <th>Uppg 3</th>\n      <th>Uppg 4</th>\n      <th>Uppg 5</th>\n      <th>Total</th>\n      <th>Betyg</th>\n    </tr>\n  </thead>\n  <tbody>\n    <tr>\n      <th>0</th>\n      <td>Ada</td>\n      <td>3.0</td>\n      <td>0.0</td>\n      <td>2.0</td>\n      <td>3.0</td>\n      <td>0.0</td>\n      <td>8.0</td>\n      <td>Godkänd</td>\n    </tr>\n    <tr>\n      <th>1</th>\n      <td>Beda</td>\n      <td>2.0</td>\n      <td>3.0</td>\n      <td>1.0</td>\n      <td>3.0</td>\n      <td>3.0</td>\n      <td>12.0</td>\n      <td>Godkänd</td>\n    </tr>\n    <tr>\n      <th>2</th>\n      <td>Ceda</td>\n      <td>3.0</td>\n      <td>1.0</td>\n      <td>0.0</td>\n      <td>1.0</td>\n      <td>0.0</td>\n      <td>5.0</td>\n      <td>Underkänd</td>\n    </tr>\n    <tr>\n      <th>3</th>\n      <td>Deda</td>\n      <td>0.0</td>\n      <td>2.0</td>\n      <td>0.0</td>\n      <td>3.0</td>\n      <td>3.0</td>\n      <td>8.0</td>\n      <td>Godkänd</td>\n    </tr>\n    <tr>\n      <th>4</th>\n      <td>Eda</td>\n      <td>2.0</td>\n      <td>1.0</td>\n      <td>2.0</td>\n      <td>1.0</td>\n      <td>3.0</td>\n      <td>9.0</td>\n      <td>Godkänd</td>\n    </tr>\n    <tr>\n      <th>5</th>\n      <td>Feda</td>\n      <td>0.0</td>\n      <td>0.0</td>\n      <td>0.0</td>\n      <td>0.0</td>\n      <td>0.0</td>\n      <td>0.0</td>\n      <td>Underkänd</td>\n    </tr>\n    <tr>\n      <th>6</th>\n      <td>Geda</td>\n      <td>3.0</td>\n      <td>1.0</td>\n      <td>1.0</td>\n      <td>2.0</td>\n      <td>3.0</td>\n      <td>10.0</td>\n      <td>Godkänd</td>\n    </tr>\n    <tr>\n      <th>7</th>\n      <td>Heda</td>\n      <td>0.0</td>\n      <td>1.0</td>\n      <td>0.0</td>\n      <td>1.0</td>\n      <td>3.0</td>\n      <td>5.0</td>\n      <td>Underkänd</td>\n    </tr>\n    <tr>\n      <th>8</th>\n      <td>Ida</td>\n      <td>2.0</td>\n      <td>1.0</td>\n      <td>2.0</td>\n      <td>2.0</td>\n      <td>3.0</td>\n      <td>10.0</td>\n      <td>Godkänd</td>\n    </tr>\n    <tr>\n      <th>9</th>\n      <td>Keda</td>\n      <td>2.0</td>\n      <td>2.0</td>\n      <td>1.0</td>\n      <td>0.0</td>\n      <td>2.0</td>\n      <td>7.0</td>\n      <td>Underkänd</td>\n    </tr>\n    <tr>\n      <th>10</th>\n      <td>Leda</td>\n      <td>3.0</td>\n      <td>1.0</td>\n      <td>2.0</td>\n      <td>1.0</td>\n      <td>3.0</td>\n      <td>10.0</td>\n      <td>Godkänd</td>\n    </tr>\n    <tr>\n      <th>11</th>\n      <td>Meda</td>\n      <td>0.0</td>\n      <td>2.0</td>\n      <td>0.0</td>\n      <td>1.0</td>\n      <td>1.0</td>\n      <td>4.0</td>\n      <td>Underkänd</td>\n    </tr>\n  </tbody>\n</table>\n</div>"
     },
     "metadata": {},
     "execution_count": 26
    }
   ],
   "source": [
    "import pandas as pd\n",
    "import numpy as np\n",
    "\n",
    "df = pd.read_csv(\"Matteprov.csv\")\n",
    "\n",
    "#print(df.head(3))\n",
    "#print(df.tail(3))\n",
    "\n",
    "#print(df.dropna())#Denna slänger raderna som innehåller NaN\n",
    "df = df.fillna(0)\n",
    "df[\"Total\"] = df.sum(axis=1)\n",
    "df[\"Betyg\"] = np.where(df[\"Total\"] > 7, \"Godkänd\", \"Underkänd\")\n",
    "df"
   ]
  },
  {
   "source": [
    "# Select Data\n",
    "- Rader\n",
    "- Kolumner"
   ],
   "cell_type": "markdown",
   "metadata": {}
  },
  {
   "cell_type": "code",
   "execution_count": 29,
   "metadata": {},
   "outputs": [
    {
     "output_type": "execute_result",
     "data": {
      "text/plain": [
       "0       Godkänd\n",
       "1       Godkänd\n",
       "2     Underkänd\n",
       "3       Godkänd\n",
       "4       Godkänd\n",
       "5     Underkänd\n",
       "6       Godkänd\n",
       "7     Underkänd\n",
       "8       Godkänd\n",
       "9     Underkänd\n",
       "10      Godkänd\n",
       "11    Underkänd\n",
       "Name: Betyg, dtype: object"
      ]
     },
     "metadata": {},
     "execution_count": 29
    }
   ],
   "source": [
    "#plockar ut kolumner men kolumnamn\n",
    "#df[\"Elev\"]\n",
    "df[\"Betyg\"]"
   ]
  }
 ]
}