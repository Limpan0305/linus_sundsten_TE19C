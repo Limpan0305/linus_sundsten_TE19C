{
 "metadata": {
  "language_info": {
   "codemirror_mode": {
    "name": "ipython",
    "version": 3
   },
   "file_extension": ".py",
   "mimetype": "text/x-python",
   "name": "python",
   "nbconvert_exporter": "python",
   "pygments_lexer": "ipython3",
   "version": "3.8.3-final"
  },
  "orig_nbformat": 2,
  "kernelspec": {
   "name": "python3",
   "display_name": "Python 3.8.3 64-bit (conda)",
   "metadata": {
    "interpreter": {
     "hash": "8f4b7e7bd44cf3a98f2b8880affc164a366bad1c9eb8125263ff76f92c3f7206"
    }
   }
  }
 },
 "nbformat": 4,
 "nbformat_minor": 2,
 "cells": [
  {
   "source": [
    "# Dictionary\n",
    "- key:value Provresultat.txt\n",
    "- metafor: vanlig ordlista/lexikon"
   ],
   "cell_type": "markdown",
   "metadata": {}
  },
  {
   "cell_type": "code",
   "execution_count": 9,
   "metadata": {},
   "outputs": [
    {
     "output_type": "stream",
     "name": "stdout",
     "text": [
      "Linus är Student och jobbar på NTI\n{'namn': 'Linus', 'ålder': '17', 'yrke': 'Student', 'arbetsplats': 'NTI'}\n"
     ]
    }
   ],
   "source": [
    "# sntax för dictionary\n",
    "person = dict(\n",
    "    namn = \"Linus\",\n",
    "    ålder = \"17\",\n",
    "    yrke = \"Student\",\n",
    "    arbetsplats = \"NTI\"\n",
    ")\n",
    "\n",
    "# åtkomstoperatorn [] för att hitta värderna i key:value par\n",
    "print(f\"{person['namn']} är {person['yrke']} och jobbar på {person['arbetsplats']}\")\n",
    "print(person)"
   ]
  },
  {
   "cell_type": "code",
   "execution_count": 32,
   "metadata": {},
   "outputs": [
    {
     "output_type": "stream",
     "name": "stdout",
     "text": [
      "Ord vi behöver lära oss\ntilldela  \t - ge ett värde till en variabel\ndatastruktur  \t - strukturering av data\nsträng  \t - sekvens av tecken\ndictionary  \t - datastruktur för att spara i key:value par\n\n\nGloslista\ntilldela  \t ge ett värde till en variabel\ndatastruktur  \t strukturering av data\nsträng  \t sekvens av tecken\ndictionary  \t datastruktur för att spara i key:value par\n"
     ]
    }
   ],
   "source": [
    "# syntax med {}\n",
    "glosor = {\n",
    "    \"tilldela\":\"ge ett värde till en variabel\", \n",
    "    \"datastruktur\": \"strukturering av data\",\n",
    "    \"sträng\":\"sekvens av tecken\"\n",
    "}\n",
    "\n",
    "# lägga till ett element\n",
    "glosor[\"dictionary\"] = \"datastruktur för att spara i key:value par\"\n",
    "\n",
    "\"\"\"print(glosor[\"tilldela\"])\n",
    "print(glosor[\"sträng\"])\n",
    "print(glosor[\"dictionary\"])\"\"\"\n",
    "\n",
    "print(\"Ord vi behöver lära oss\")\n",
    "# ett sätt att loopa igenom en dictionary\n",
    "for key in glosor:\n",
    "    print(f\"{key}  \\t - {glosor[key]}\")\n",
    "\n",
    "print(\"\\n\\nGloslista\")\n",
    "    # ett annat sätt\n",
    "for key, value in glosor.items():\n",
    "    print(f\"{key}  \\t {value}\")"
   ]
  },
  {
   "cell_type": "code",
   "execution_count": 35,
   "metadata": {},
   "outputs": [
    {
     "output_type": "stream",
     "name": "stdout",
     "text": [
      "False\näta\n"
     ]
    }
   ],
   "source": [
    "husdjur = {\n",
    "    \"djur\": \"fisk\",\n",
    "    \"ålder\": 5,\n",
    "    \"ätbar\": False, \n",
    "    \"actions\": [\"simma fram\", \"simma bak\", \"äta\"]\n",
    "}\n",
    "\n",
    "print(husdjur[\"ätbar\"])\n",
    "print(husdjur[\"actions\"][2])"
   ]
  },
  {
   "cell_type": "code",
   "execution_count": 39,
   "metadata": {},
   "outputs": [
    {
     "output_type": "stream",
     "name": "stdout",
     "text": [
      "{'0': 6, '1': 8, '2': 3, '3': 10, '4': 4, '5': 2, '6': 7, '7': 9, '8': 7, '9': 4}\n"
     ]
    }
   ],
   "source": [
    "# for-sats för att generera key_value par\n",
    "import random as rnd\n",
    "siffror = {}\n",
    "\n",
    "for i in range(10):\n",
    "    slumptal = rnd.randint(1,10)\n",
    "    siffror[f\"{i}\"] = slumptal\n",
    "\n",
    "print(siffror)\n"
   ]
  }
 ]
}