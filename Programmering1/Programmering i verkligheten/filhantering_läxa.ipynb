{
 "metadata": {
  "language_info": {
   "codemirror_mode": {
    "name": "ipython",
    "version": 3
   },
   "file_extension": ".py",
   "mimetype": "text/x-python",
   "name": "python",
   "nbconvert_exporter": "python",
   "pygments_lexer": "ipython3",
   "version": "3.8.3"
  },
  "orig_nbformat": 2,
  "kernelspec": {
   "name": "python383jvsc74a57bd08f4b7e7bd44cf3a98f2b8880affc164a366bad1c9eb8125263ff76f92c3f7206",
   "display_name": "Python 3.8.3 64-bit ('base': conda)"
  }
 },
 "nbformat": 4,
 "nbformat_minor": 2,
 "cells": [
  {
   "cell_type": "code",
   "execution_count": 71,
   "metadata": {},
   "outputs": [],
   "source": [
    "#1a\n",
    "import random as rnd\n",
    "\n",
    "with open(\"diceRoll.txt\", \"w\") as f1:\n",
    "    for i in range(10):\n",
    "        kast = str(rnd.randint(1,6))\n",
    "        f1.write(f\" {kast}, \")"
   ]
  },
  {
   "cell_type": "code",
   "execution_count": 122,
   "metadata": {},
   "outputs": [],
   "source": [
    "#1b\n",
    "import random as rnd\n",
    "lista= []\n",
    "\n",
    "with open(\"diceRoll.txt\", \"w\") as f1:\n",
    "    for i in range(10):\n",
    "        kast = rnd.randint(1,6)\n",
    "        lista.append(kast)\n",
    "    lista.sort()\n",
    "    f1.write(f\"{lista}, \")"
   ]
  },
  {
   "cell_type": "code",
   "execution_count": 3,
   "metadata": {},
   "outputs": [],
   "source": [
    "#1c\n",
    "import random as rnd\n",
    "femmor = 0\n",
    "lista= []\n",
    "\n",
    "with open(\"diceRoll.txt\", \"w\") as f1:\n",
    "    for i in range(20):\n",
    "        kast = rnd.randint(1,6)\n",
    "        lista.append(kast)\n",
    "    lista.sort()\n",
    "    f1.write(f\" {kast} \")\n",
    "    if kast == 5:\n",
    "        femmor += 1\n",
    "    f1.write(f\"Det är {femmor} stycken femmor\")\n",
    "\n"
   ]
  },
  {
   "cell_type": "code",
   "execution_count": 4,
   "metadata": {},
   "outputs": [],
   "source": [
    "import random as rnd\n",
    "lista= []\n",
    "femmor = 0\n",
    "\n",
    "with open(\"diceRoll.txt\", \"w\") as f1:\n",
    "    for i in range(10):\n",
    "        kast = rnd.randint(1,6)\n",
    "        lista.append(kast)\n",
    "    lista.sort()\n",
    "    f1.write(f\"{lista}, \")\n",
    "    f1.write(\"\\n\")\n",
    "    femmor = lista.count(5)\n",
    "    f1.write(f\"Antalet femmor är {femmor}\")\n",
    "    \n",
    "\n",
    "     "
   ]
  },
  {
   "cell_type": "code",
   "execution_count": 153,
   "metadata": {},
   "outputs": [
    {
     "output_type": "stream",
     "name": "stdout",
     "text": [
      "Adam Gustafsson 25\n\nEmil Johansson 23\n\nSven Erik Karlsson 13\n\nOve Karlsten 41\n\nEmma Boden 32\n\nIda HÃ¥kansson 23\n\nElla Ester 41\n\nHanna Karlsson 23 \n\nJohan Johansson 42\n\nSven Erik Lundin 39\n\nBjÃ¶rn BjÃ¶rnsson 39\n\nKarl Karlsson 32\n\nBose Bosseson 32\n\nHÃ¥kan HÃ¥kanson 24\n\nJonas Jonasson 31\n\nErik Eriksson 31\n\nGore Bord 55\n\nJakob Kallander 65\n\nFredrika Ulven 10\n"
     ]
    }
   ],
   "source": [
    "#2a\n",
    "with open(\"Provresultat.txt\", \"r\") as f:\n",
    "    for rad in f:\n",
    "        print(rad)"
   ]
  },
  {
   "cell_type": "code",
   "execution_count": 5,
   "metadata": {},
   "outputs": [
    {
     "output_type": "stream",
     "name": "stdout",
     "text": [
      "Adam Gustafsson 25\nEmil Johansson 23\nSven Erik Karlsson 13\nOve Karlsten 41\nEmma Boden 32\nIda HÃ¥kansson 23\nElla Ester 41\nHanna Karlsson 23 \nJohan Johansson 42\nSven Erik Lundin 39\nBjÃ¶rn BjÃ¶rnsson 39\nKarl Karlsson 32\nBose Bosseson 32\nHÃ¥kan HÃ¥kanson 24\nJonas Jonasson 31\nErik Eriksson 31\nGore Bord 55\nJakob Kallander 65\nFredrika Ulven 10['Adam Gustafsson 25', 'BjÃ¶rn BjÃ¶rnsson 39', 'Bose Bosseson 32', 'Ella Ester 41', 'Emil Johansson 23', 'Emma Boden 32', 'Erik Eriksson 31', 'Fredrika Ulven 10', 'Gore Bord 55', 'Hanna Karlsson 23 ', 'HÃ¥kan HÃ¥kanson 24', 'Ida HÃ¥kansson 23', 'Jakob Kallander 65', 'Johan Johansson 42', 'Jonas Jonasson 31', 'Karl Karlsson 32', 'Ove Karlsten 41', 'Sven Erik Karlsson 13', 'Sven Erik Lundin 39']\n"
     ]
    }
   ],
   "source": [
    "#2b\n",
    "lista = []\n",
    "\n",
    "with open(\"Provresultat.txt\", \"r\") as f1:\n",
    "    for rad in f1:\n",
    "        print(rad, end=\"\")\n",
    "        rad = rad.strip(\"\\n\")\n",
    "        lista.append(rad)\n",
    "    lista.sort()\n",
    "    print(lista)"
   ]
  },
  {
   "cell_type": "code",
   "execution_count": 14,
   "metadata": {},
   "outputs": [
    {
     "output_type": "stream",
     "name": "stdout",
     "text": [
      " 0.0 \n 0.0 \n 2.4 \n 5.3 \n 37.3\n 55.0\n\n\n 8.4 \n 14.2\n 26.9\n 16.6\n 21.3\n 12.6\n['A 0.0 \\n', 'B 0.0 \\n', 'C 2.4 \\n', 'D 5.3 \\n', 'E 37.3 \\n', 'F 55.0 \\n']\n"
     ]
    }
   ],
   "source": [
    "import matplotlib.pyplot as plt\n",
    "\n",
    "Ma2A = []\n",
    "Ma2C = []\n",
    "\n",
    "with open (\"Npvt19Ma2A.txt\", \"r\") as f1:\n",
    "    for rad in f1:\n",
    "        rad = rad.replace(\"%\", \" \")\n",
    "        Ma2A.append(rad)\n",
    "    \n",
    "for i in range(6):\n",
    "    print(Ma2A[i][1:6])\n",
    "    \n",
    "    \n",
    "print( \"\\n\" )\n",
    "with open (\"Npvt19Ma2C.txt\", \"r\") as f2:\n",
    "    for rad in f2:\n",
    "        rad = rad.replace(\"%\", \"\")\n",
    "        Ma2C.append(rad)\n",
    "    \n",
    "for i in range(6):\n",
    "    print(Ma2C[i][1:6])\n",
    "        \n",
    "\"\"\"\n",
    "plt.pie(Ma2A)\n",
    "plt.show()\"\"\"\n",
    "\n",
    "print(Ma2A)\n"
   ]
  },
  {
   "cell_type": "code",
   "execution_count": 4,
   "metadata": {},
   "outputs": [
    {
     "output_type": "error",
     "ename": "FileExistsError",
     "evalue": "[Errno 17] File exists: 'simulering.txt'",
     "traceback": [
      "\u001b[1;31m---------------------------------------------------------------------------\u001b[0m",
      "\u001b[1;31mFileExistsError\u001b[0m                           Traceback (most recent call last)",
      "\u001b[1;32m<ipython-input-4-8a39898a85bf>\u001b[0m in \u001b[0;36m<module>\u001b[1;34m\u001b[0m\n\u001b[0;32m      2\u001b[0m \u001b[1;32mimport\u001b[0m \u001b[0mrandom\u001b[0m \u001b[1;32mas\u001b[0m \u001b[0mrnd\u001b[0m\u001b[1;33m\u001b[0m\u001b[1;33m\u001b[0m\u001b[0m\n\u001b[0;32m      3\u001b[0m \u001b[1;33m\u001b[0m\u001b[0m\n\u001b[1;32m----> 4\u001b[1;33m \u001b[0mfil\u001b[0m \u001b[1;33m=\u001b[0m \u001b[0mopen\u001b[0m\u001b[1;33m(\u001b[0m\u001b[1;34m\"simulering.txt\"\u001b[0m\u001b[1;33m,\u001b[0m\u001b[1;34m\"x\"\u001b[0m\u001b[1;33m)\u001b[0m\u001b[1;33m\u001b[0m\u001b[1;33m\u001b[0m\u001b[0m\n\u001b[0m\u001b[0;32m      5\u001b[0m \u001b[1;33m\u001b[0m\u001b[0m\n\u001b[0;32m      6\u001b[0m \u001b[0mexponent\u001b[0m \u001b[1;33m=\u001b[0m \u001b[0mint\u001b[0m\u001b[1;33m(\u001b[0m\u001b[0minput\u001b[0m\u001b[1;33m(\u001b[0m\u001b[1;34m\"Ange en exponent för 10^x: \"\u001b[0m\u001b[1;33m)\u001b[0m\u001b[1;33m)\u001b[0m\u001b[1;33m\u001b[0m\u001b[1;33m\u001b[0m\u001b[0m\n",
      "\u001b[1;31mFileExistsError\u001b[0m: [Errno 17] File exists: 'simulering.txt'"
     ]
    }
   ],
   "source": [
    "#4\n",
    "import random as rnd\n",
    "\n",
    "fil = open(\"simulering.txt\",\"x\")\n",
    "\n",
    "exponent = int(input(\"Ange en exponent för 10^x: \"))\n",
    "\n",
    "ettor = 0\n",
    "tvåor = 0\n",
    "treor = 0\n",
    "fyror = 0\n",
    "femmor = 0\n",
    "sexor = 0\n",
    "\n",
    "simulator_start = 0\n",
    "\n",
    "while simulator_start < exponent:\n",
    "    simulator_start = simulator_start + 1\n",
    "    for i in range(10**simulator_start):\n",
    "        dice = rnd.randint(1,6)\n",
    "        if dice == 6:\n",
    "            sexor = sexor + 1\n",
    "        elif dice == 5:\n",
    "            femmor = femmor + 1\n",
    "        elif dice == 4:\n",
    "            fyror = fyror + 1\n",
    "        elif dice == 3:\n",
    "            treor = treor + 1\n",
    "        elif dice == 2:\n",
    "            tvåor = tvåor + 1\n",
    "        else:\n",
    "            ettor = ettor + 1\n",
    "\n",
    "    sannolikhet_ettor = ettor/(10**simulator_start)\n",
    "    sannolikhet_tvåor = tvåor/(10**simulator_start)\n",
    "    sannolikhet_treor = treor/(10**simulator_start)\n",
    "    sannolikhet_fyror = fyror/(10**simulator_start)\n",
    "    sannolikhet_femmor = femmor/(10**simulator_start)\n",
    "    sannolikhet_sexor = sexor/(10**simulator_start)\n",
    "\n",
    "    fil.write(f\"\\nVid {10**simulator_start} kast ar : \\nAntal ettor = {ettor}, sannolikhet {sannolikhet_ettor} \\nAntal tvåor = {tvåor} , sannolikhet {sannolikhet_tvåor} \\nAntal treor = {treor}, sannolikhet {sannolikhet_treor} \\nAntal fyror = {fyror}, sannolikhet {sannolikhet_fyror} \\nAntal femmor = {femmor}, sannolikhet {sannolikhet_femmor} \\nAntal Sexor = {sexor}, sannolikhet {sannolikhet_sexor}\")\n",
    "    fil.write(f\"\\n\")\n",
    "  \n"
   ]
  }
 ]
}