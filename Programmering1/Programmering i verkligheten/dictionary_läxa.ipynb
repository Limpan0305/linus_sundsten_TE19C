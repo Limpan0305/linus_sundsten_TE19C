{
 "metadata": {
  "language_info": {
   "codemirror_mode": {
    "name": "ipython",
    "version": 3
   },
   "file_extension": ".py",
   "mimetype": "text/x-python",
   "name": "python",
   "nbconvert_exporter": "python",
   "pygments_lexer": "ipython3",
   "version": "3.8.3-final"
  },
  "orig_nbformat": 2,
  "kernelspec": {
   "name": "python3",
   "display_name": "Python 3.8.3 64-bit (conda)",
   "metadata": {
    "interpreter": {
     "hash": "8f4b7e7bd44cf3a98f2b8880affc164a366bad1c9eb8125263ff76f92c3f7206"
    }
   }
  }
 },
 "nbformat": 4,
 "nbformat_minor": 2,
 "cells": [
  {
   "cell_type": "code",
   "execution_count": 28,
   "metadata": {},
   "outputs": [
    {
     "output_type": "stream",
     "name": "stdout",
     "text": [
      "Antalet poäng jag läser just nu är 850\n"
     ]
    }
   ],
   "source": [
    "#1\n",
    "poäng = 0\n",
    "ämnen = {\n",
    "    \"matte4\": 100, \n",
    "    \"engelska6\": 100, \n",
    "    \"svenska2\": 100, \n",
    "    \"fysik1a\": 150, \n",
    "    \"daodac\": 100, \n",
    "    \"programmering1\": 100,\n",
    "    \"webbutveckling1\": 100, \n",
    "    \"idrott\": 100\n",
    "}\n",
    "\n",
    "for key, value in ämnen.items():\n",
    "    poäng += value\n",
    "\n",
    "print(f\"Antalet poäng jag läser just nu är {poäng}\")"
   ]
  },
  {
   "cell_type": "code",
   "execution_count": 195,
   "metadata": {
    "tags": []
   },
   "outputs": [
    {
     "output_type": "stream",
     "name": "stdout",
     "text": [
      "{'1': 16626, '2': 16793, '3': 16650, '4': 16646, '5': 16722, '6': 16563}\n"
     ]
    }
   ],
   "source": [
    "#2\n",
    "import random as rnd\n",
    "\n",
    "resultat = {}\n",
    "lista = []\n",
    "\n",
    "for i in range(1,7):\n",
    "    resultat[f\"{i}\"] = 0\n",
    "for i in range(100000):\n",
    "    kast = rnd.randint(1,6)\n",
    "    lista.append(kast)\n",
    "for j in range(1,7):\n",
    "    resultat[f\"{j}\"] = lista.count(j)\n",
    "\n",
    "print(resultat)\n",
    "            "
   ]
  },
  {
   "cell_type": "code",
   "execution_count": 63,
   "metadata": {},
   "outputs": [
    {
     "output_type": "stream",
     "name": "stdout",
     "text": [
      "S O S ['...', '---', '...']\n"
     ]
    }
   ],
   "source": [
    "#4\n",
    "morsetecken={}\n",
    "with open(\"morse.txt\", \"r\") as f1:\n",
    "    for rad in f1:\n",
    "        bokstav=rad[:1]\n",
    "        kod=rad[3:]\n",
    "        morsetecken[bokstav]=kod\n",
    "def översätt(text):\n",
    "    kodad=[]\n",
    "    for bokstav in user_text:\n",
    "\n",
    "        if bokstav in morsetecken:\n",
    "            print(bokstav, end=\" \")\n",
    "            kodad.append(morsetecken[bokstav])\n",
    "            fullt_ord=[bokstav[:-1] for bokstav in kodad]\n",
    "    print(fullt_ord)\n",
    "#Ger användaren en input och gör alla bokstäver i inputen till stora för att matcha listan\n",
    "user_text= input(\"Vilket ord vill du får transelterat???\").upper()\n",
    "\n",
    "översätt(user_text)\n"
   ]
  }
 ]
}