{
 "metadata": {
  "language_info": {
   "codemirror_mode": {
    "name": "ipython",
    "version": 3
   },
   "file_extension": ".py",
   "mimetype": "text/x-python",
   "name": "python",
   "nbconvert_exporter": "python",
   "pygments_lexer": "ipython3",
   "version": "3.8.3-final"
  },
  "orig_nbformat": 2,
  "kernelspec": {
   "name": "python3",
   "display_name": "Python 3",
   "language": "python"
  }
 },
 "nbformat": 4,
 "nbformat_minor": 2,
 "cells": [
  {
   "source": [
    "## Filhantering 1 - .txt-filer\n",
    "### läs in fil och skriv ut sedan"
   ],
   "cell_type": "markdown",
   "metadata": {}
  },
  {
   "cell_type": "code",
   "execution_count": 16,
   "metadata": {},
   "outputs": [
    {
     "output_type": "stream",
     "name": "stdout",
     "text": [
      "Isaac Newton 1643-01-04\n         Gallileo Gallilei 1564-02-15 \nLeonhard Euler 1707-04-15\nAlbert Einstein 1879-03-14       \n     Carl Friedrich Gauss 1799-04-30\nStephen Hawking 1942-01-08\n"
     ]
    }
   ],
   "source": [
    "try:\n",
    "    with open(\"Stora forskare.txt\", \"r\") as f1:\n",
    "        for rad in f1:\n",
    "            print(rad, end=\"\")\n",
    "except FileNotFoundError:\n",
    "    print(\"Filen hittades inte, checka stavningen\")"
   ]
  },
  {
   "source": [
    "## Hitta alla födda före 1800-talet"
   ],
   "cell_type": "markdown",
   "metadata": {}
  },
  {
   "cell_type": "code",
   "execution_count": 24,
   "metadata": {},
   "outputs": [
    {
     "output_type": "stream",
     "name": "stdout",
     "text": [
      "Isaac Newton 1643-01-04\n1643\nGallileo Gallilei 1564-02-15\n1564\nLeonhard Euler 1707-04-15\n1707\nAlbert Einstein 1879-03-14\n1879\nCarl Friedrich Gauss 1799-04-30\n1799\nStephen Hawking 1942-01-08\n1942\n['Isaac Newton', 'Gallileo Gallilei', 'Leonhard Euler', 'Carl Friedrich Gauss']\n"
     ]
    }
   ],
   "source": [
    "före1800 = []\n",
    "\n",
    "with open(\"Stora forskare.txt\", \"r\") as f1:\n",
    "    for rad in f1:\n",
    "        #Tar bort blanksteg i början och slutet av varje rad\n",
    "        rad = rad.strip(\" \\n\") \n",
    "        print(rad)\n",
    "        print(rad[-10:-6])\n",
    "        # plocka ut året och typomvandla till int\n",
    "        år = int(rad[-10:-6])\n",
    "        # checka om året < 1800, läggtill i en lista\n",
    "        if år < 1800:\n",
    "            före1800.append(rad[0:-11])\n",
    "\n",
    "print(före1800)"
   ]
  },
  {
   "source": [
    "## Skriva till en fil"
   ],
   "cell_type": "markdown",
   "metadata": {}
  },
  {
   "cell_type": "code",
   "execution_count": 8,
   "metadata": {},
   "outputs": [],
   "source": [
    "with open(\"Stora forskare.txt\", \"r\") as f1, open(\"Stora forskare 2.txt\",\"w\") as f2:\n",
    "    for rad in f1:\n",
    "        rad = rad.strip(\" \") #tar bort trailing och blanksteg\n",
    "        f2.write(rad)\n",
    "    f2.write(\"Andrew Wiles 1954-04-11\\n\")"
   ]
  },
  {
   "cell_type": "code",
   "execution_count": 6,
   "metadata": {},
   "outputs": [],
   "source": [
    "with open(\"Stora forskare 2.txt\", \"w\") as f1: #skriver över gamla filen\n",
    "    f1.write(\"Marie Curie 1867-11-07\\n\")"
   ]
  },
  {
   "cell_type": "code",
   "execution_count": 9,
   "metadata": {},
   "outputs": [],
   "source": [
    "with open(\"Stora forskare 2.txt\", \"a\") as f1: #option \"a\" står för append, lägger til i slutet\n",
    "    f1.write(\"Pierre Curie 1859-05-15\\n\")"
   ]
  }
 ]
}