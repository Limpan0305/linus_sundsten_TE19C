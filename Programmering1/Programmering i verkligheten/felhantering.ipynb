{
 "metadata": {
  "language_info": {
   "codemirror_mode": {
    "name": "ipython",
    "version": 3
   },
   "file_extension": ".py",
   "mimetype": "text/x-python",
   "name": "python",
   "nbconvert_exporter": "python",
   "pygments_lexer": "ipython3",
   "version": "3.8.3-final"
  },
  "orig_nbformat": 2,
  "kernelspec": {
   "name": "python3",
   "display_name": "Python 3",
   "language": "python"
  }
 },
 "nbformat": 4,
 "nbformat_minor": 2,
 "cells": [
  {
   "source": [
    "# Felhantering\n",
    "- syntaxfel - språkregler följs inte hittas när skriver programmet/under exkevering\n",
    "- exkveringsfel - felet upptäcks under körning, vilket kan krascha programmet\n",
    "- logiskt fel - \"felaktig lösning på problemet\", kan ge felaktiga resultat. Svåra att upptäcka"
   ],
   "cell_type": "markdown",
   "metadata": {}
  },
  {
   "cell_type": "code",
   "execution_count": 11,
   "metadata": {},
   "outputs": [
    {
     "output_type": "stream",
     "name": "stdout",
     "text": [
      "Du är barn\n"
     ]
    }
   ],
   "source": [
    "while True:\n",
    "    try:\n",
    "        ålder = int(input(\"Hur gammal är du\"))\n",
    "        # detta löser ett logiskt fel\n",
    "        assert ålder >= 0 and ålder < 125, \"Din ålder ska vara mellan 0 och 124\"\n",
    "        break #hoppar ut från while-satsen\n",
    "    except AssertionError as msg:\n",
    "        print(msg)\n",
    "    except:\n",
    "        print(\"Ålder ska vara ett tal och inte sträng\")\n",
    "\n",
    "if ålder >= 18:\n",
    "    print(\"Du är vuxen\")\n",
    "else:\n",
    "    print(\"Du är barn\")"
   ]
  },
  {
   "cell_type": "code",
   "execution_count": 23,
   "metadata": {},
   "outputs": [
    {
     "output_type": "execute_result",
     "data": {
      "text/plain": [
       "str"
      ]
     },
     "metadata": {},
     "execution_count": 23
    }
   ],
   "source": [
    "#låt användaren mata in ett antal tal\n",
    "#skriv ut största talet\n",
    "#skriv ut minsta talet\n",
    "\n",
    "tal_str = input(\"Skriv in ett antal tal med mellanrum emellan\")\n",
    "lista_str = tal_str.split()\n",
    "\n",
    "try:\n",
    "    tal_lista = [float(x) for x in lista_str]\n",
    "    störst = max(tal_lista)\n",
    "    minst = min(tal_lista)\n",
    "    print(f\"Största talet är {störst}, minsta talet är {minst}\")\n",
    "except:\n",
    "    print(\"Felaktiga tal\")\n",
    "\n",
    "print(tal_lista)\n",
    "\n"
   ]
  },
  {
   "cell_type": "code",
   "execution_count": 14,
   "metadata": {},
   "outputs": [
    {
     "output_type": "execute_result",
     "data": {
      "text/plain": [
       "1.0"
      ]
     },
     "metadata": {},
     "execution_count": 14
    }
   ],
   "source": [
    "#1\n",
    "import numpy as np\n",
    "\n",
    "def distance(p1, p2):\n",
    "    return np.sqrt(p1+p2)\n",
    "\n",
    "distance(0.5, 0.5)"
   ]
  },
  {
   "cell_type": "code",
   "execution_count": 48,
   "metadata": {},
   "outputs": [
    {
     "output_type": "stream",
     "name": "stdout",
     "text": [
      "100 är inte fyrsiffrigt\n231 är inte fyrsiffrigt\n10000 är inte fyrsiffrigt\n9876 är fyrsiffrigt\n-1000 är fyrsiffrigt\n102313 är inte fyrsiffrigt\n"
     ]
    }
   ],
   "source": [
    "#2\n",
    "import math\n",
    "def ar_fyrsiffrigt(tal):\n",
    "    if abs(tal)//1000 < 10 and abs(tal)//1000 >= 1:\n",
    "        return True\n",
    "    else:\n",
    "        return False\n",
    "\n",
    "\n",
    "testtal = [100, 231, 10000, 9876, -1000, 102313]\n",
    "\n",
    "\n",
    "for t in testtal:\n",
    "    if ar_fyrsiffrigt(t):\n",
    "        print(f\"{t} är fyrsiffrigt\")\n",
    "    else: \n",
    "        print(f\"{t} är inte fyrsiffrigt\")\n"
   ]
  },
  {
   "cell_type": "code",
   "execution_count": 65,
   "metadata": {},
   "outputs": [
    {
     "output_type": "stream",
     "name": "stdout",
     "text": [
      "Antal gånger ska vara ett tal och inte bokstaverat\n",
      "Fortsätt köp engångsbiljetter\n"
     ]
    }
   ],
   "source": [
    "#3\n",
    "en_biljett = 30\n",
    "mån_biljett = 900\n",
    "\n",
    "while True:\n",
    "    try:\n",
    "        antalggr = int(input(\"Hur många gånger åker du spårvagn per månad?\"))\n",
    "        assert antalggr >= 0 and antalggr <=65, \"Du åker bara mellan 0 och 65 gånger per månad\"\n",
    "        break\n",
    "    except AssertionError as msg:\n",
    "        print(msg)\n",
    "    except:\n",
    "        print(\"Antal gånger ska vara ett tal och inte bokstaverat\")\n",
    "\n",
    "if antalggr > 30:\n",
    "    print(\"Du borde köpa månadskort\")\n",
    "elif antalggr == 30:\n",
    "    print(\"Det spelar ingen roll då kostnaderna är samma\")\n",
    "else: \n",
    "    print(\"Fortsätt köp engångsbiljetter\")"
   ]
  }
 ]
}