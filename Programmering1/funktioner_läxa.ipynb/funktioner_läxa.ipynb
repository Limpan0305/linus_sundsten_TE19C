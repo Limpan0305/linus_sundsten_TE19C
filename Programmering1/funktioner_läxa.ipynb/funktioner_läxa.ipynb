{
 "metadata": {
  "language_info": {
   "codemirror_mode": {
    "name": "ipython",
    "version": 3
   },
   "file_extension": ".py",
   "mimetype": "text/x-python",
   "name": "python",
   "nbconvert_exporter": "python",
   "pygments_lexer": "ipython3",
   "version": "3.8.3-final"
  },
  "orig_nbformat": 2,
  "kernelspec": {
   "name": "python3",
   "display_name": "Python 3"
  }
 },
 "nbformat": 4,
 "nbformat_minor": 2,
 "cells": [
  {
   "source": [
    "## 1a"
   ],
   "cell_type": "markdown",
   "metadata": {}
  },
  {
   "cell_type": "code",
   "execution_count": 23,
   "metadata": {},
   "outputs": [
    {
     "output_type": "stream",
     "name": "stdout",
     "text": [
      "Den aritmetiska summan är 55.0\n"
     ]
    }
   ],
   "source": [
    "\n",
    "def aritmetisk_summa(a1, an, n):\n",
    "    summa = (n*(a1 + an))/2\n",
    "    return summa\n",
    "print(f\"Den aritmetiska summan är {aritmetisk_summa(1,10,10)}\")"
   ]
  },
  {
   "source": [
    "## 1b"
   ],
   "cell_type": "markdown",
   "metadata": {}
  },
  {
   "cell_type": "code",
   "execution_count": 1,
   "metadata": {},
   "outputs": [
    {
     "output_type": "stream",
     "name": "stdout",
     "text": [
      "Den aritmetiska summan är 5050.0\n"
     ]
    }
   ],
   "source": [
    "def aritmetisk_summa(a1, an, n):\n",
    "    summa = (n*(a1 + an))/2\n",
    "    return summa\n",
    "print(f\"Den aritmetiska summan är {aritmetisk_summa(1,100,100)}\")"
   ]
  },
  {
   "source": [
    "## 1c\n"
   ],
   "cell_type": "markdown",
   "metadata": {}
  },
  {
   "cell_type": "code",
   "execution_count": 4,
   "metadata": {},
   "outputs": [
    {
     "output_type": "stream",
     "name": "stdout",
     "text": [
      "Den aritmetiska summan är 55.0\nDitt startvärde är 1\nDitt slutvärde är 10\nAntal tal i intervallet 10\n"
     ]
    }
   ],
   "source": [
    "a1 = int(input(\"Skriv ett tal som startvärde\"))\n",
    "an = int(input(\"Skriv ett tal som slutvärde\"))\n",
    "n = int(input(\"Skriv ett antal för antal tal\"))\n",
    "\n",
    "def aritmetisk_summa(a1, an, n):\n",
    "    summa = (n*(a1 + an))/2\n",
    "    return summa\n",
    "print(f\"Den aritmetiska summan är {aritmetisk_summa(a1,an,n)}\")\n",
    "print(f\"Ditt startvärde är {a1}\")\n",
    "print(f\"Ditt slutvärde är {an}\")\n",
    "print(f\"Antal tal i intervallet är {n}\")\n"
   ]
  },
  {
   "source": [
    "## 2a"
   ],
   "cell_type": "markdown",
   "metadata": {}
  },
  {
   "cell_type": "code",
   "execution_count": 80,
   "metadata": {},
   "outputs": [
    {
     "output_type": "stream",
     "name": "stdout",
     "text": [
      "1\n3\n5\n"
     ]
    },
    {
     "output_type": "execute_result",
     "data": {
      "text/plain": [
       "9"
      ]
     },
     "metadata": {},
     "execution_count": 80
    }
   ],
   "source": [
    "n = int(input(\"Skriv ett antal för antal tal\"))\n",
    "\n",
    "def aritmetisk_summa(nummer1):\n",
    "    total = 0\n",
    "    for i in range (1,(n*2+2),2):\n",
    "        print(i)\n",
    "        total += i\n",
    "    return total\n",
    "aritmetisk_summa(n)"
   ]
  },
  {
   "source": [
    "## 2b"
   ],
   "cell_type": "markdown",
   "metadata": {}
  },
  {
   "cell_type": "code",
   "execution_count": 84,
   "metadata": {},
   "outputs": [
    {
     "output_type": "stream",
     "name": "stdout",
     "text": [
      "a1 = 2\na1 = 2\n"
     ]
    },
    {
     "output_type": "execute_result",
     "data": {
      "text/plain": [
       "6"
      ]
     },
     "metadata": {},
     "execution_count": 84
    }
   ],
   "source": [
    "a1 = int(input(\"Skriv ett tal som startvärde\"))\n",
    "n = int(input(\"Skriv ett antal för antal tal\"))\n",
    "\n",
    "def aritmetisk_summa(nummer1):\n",
    "    total = 0\n",
    "    for i in range (a1,(n*2+2),2):\n",
    "        total += i\n",
    "    return total\n",
    "print(f\"a1 = {a1}\")\n",
    "print(f\"a1 = {n}\")\n",
    "aritmetisk_summa(n)"
   ]
  },
  {
   "source": [
    "## 3a"
   ],
   "cell_type": "markdown",
   "metadata": {}
  },
  {
   "cell_type": "code",
   "execution_count": 95,
   "metadata": {},
   "outputs": [
    {
     "output_type": "execute_result",
     "data": {
      "text/plain": [
       "1.4142135623730951"
      ]
     },
     "metadata": {},
     "execution_count": 95
    }
   ],
   "source": [
    "import math\n",
    "x1 = int(input(\"Skriv x koordinaten för första punkten\"))\n",
    "y1 = int(input(\"Skriv y koordinaten för första punkten\"))\n",
    "x2 = int(input(\"Skriv x koordinaten för andra punkten\"))\n",
    "y2 = int(input(\"Skriv y kordinaten för andra punkten\"))\n",
    "\n",
    "def punkter(x1, y1, x2, y2):\n",
    "    avstånd = math.sqrt((y2 - y1)**2 + (x2 - x1)**2)\n",
    "    return avstånd\n",
    "punkter(x1, y1, x2, y2)\n"
   ]
  },
  {
   "source": [
    "## 3b\n"
   ],
   "cell_type": "markdown",
   "metadata": {}
  },
  {
   "cell_type": "code",
   "execution_count": null,
   "metadata": {},
   "outputs": [],
   "source": [
    "import math\n",
    "x1 = int(input(\"Skriv x koordinaten för första punkten\"))\n",
    "y1 = int(input(\"Skriv y koordinaten för första punkten\"))\n",
    "x2 = int(input(\"Skriv x koordinaten för andra punkten\"))\n",
    "y2 = int(input(\"Skriv y kordinaten för andra punkten\"))\n",
    "\n",
    "def punkter(x1, y1, x2, y2):\n",
    "    avstånd = math.sqrt((y2 - y1)**2 + (x2 - x1)**2)\n",
    "    return avstånd\n",
    "punkter(x1, y1, x2, y2)"
   ]
  },
  {
   "source": [
    "## 3c"
   ],
   "cell_type": "markdown",
   "metadata": {}
  },
  {
   "cell_type": "code",
   "execution_count": null,
   "metadata": {},
   "outputs": [],
   "source": [
    "import math\n",
    "x1 = int(input(\"Skriv x koordinaten för första punkten\"))\n",
    "y1 = int(input(\"Skriv y koordinaten för första punkten\"))\n",
    "x2 = int(input(\"Skriv x koordinaten för andra punkten\"))\n",
    "y2 = int(input(\"Skriv y kordinaten för andra punkten\"))\n",
    "\n",
    "def punkter(x1, y1, x2, y2):\n",
    "    avstånd = math.sqrt((y2 - y1)**2 + (x2 - x1)**2)\n",
    "    return avstånd\n",
    "punkter(x1, y1, x2, y2)"
   ]
  }
 ]
}