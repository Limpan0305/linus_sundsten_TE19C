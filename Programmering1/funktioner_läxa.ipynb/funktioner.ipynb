{
 "metadata": {
  "language_info": {
   "codemirror_mode": {
    "name": "ipython",
    "version": 3
   },
   "file_extension": ".py",
   "mimetype": "text/x-python",
   "name": "python",
   "nbconvert_exporter": "python",
   "pygments_lexer": "ipython3",
   "version": "3.8.3-final"
  },
  "orig_nbformat": 2,
  "kernelspec": {
   "name": "python3",
   "display_name": "Python 3"
  }
 },
 "nbformat": 4,
 "nbformat_minor": 2,
 "cells": [
  {
   "cell_type": "code",
   "execution_count": 3,
   "metadata": {},
   "outputs": [
    {
     "output_type": "stream",
     "name": "stdout",
     "text": [
      "Arean på en triangel med bas 2 l.e. och höjd 4 l.e. är 4.0 a.e.\nArean på en triangel med bas 10 l.e. och höjd 12 l.e. är 60.0 a.e.\n"
     ]
    }
   ],
   "source": [
    "def triangelArea(bas, höjd):\n",
    "    area = bas*höjd/2\n",
    "    return area\n",
    "\n",
    "area1 = triangelArea(2,4)\n",
    "area2 = triangelArea(10,12)\n",
    "\n",
    "print(f\"Arean på en triangel med bas 2 l.e. och höjd 4 l.e. är {area1} a.e.\")\n",
    "print(f\"Arean på en triangel med bas 10 l.e. och höjd 12 l.e. är {area2} a.e.\")"
   ]
  }
 ]
}