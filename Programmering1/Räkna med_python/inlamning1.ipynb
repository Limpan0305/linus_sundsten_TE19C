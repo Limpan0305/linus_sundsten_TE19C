{
 "metadata": {
  "language_info": {
   "codemirror_mode": {
    "name": "ipython",
    "version": 3
   },
   "file_extension": ".py",
   "mimetype": "text/x-python",
   "name": "python",
   "nbconvert_exporter": "python",
   "pygments_lexer": "ipython3",
   "version": "3.8.3-final"
  },
  "orig_nbformat": 2,
  "kernelspec": {
   "name": "python_defaultSpec_1599650259704",
   "display_name": "Python 3.8.3 64-bit ('linus.sundsten': virtualenv)"
  }
 },
 "nbformat": 4,
 "nbformat_minor": 2,
 "cells": [
  {
   "cell_type": "code",
   "execution_count": 1,
   "metadata": {
    "tags": []
   },
   "outputs": [
    {
     "output_type": "stream",
     "name": "stdout",
     "text": "hej\n"
    }
   ],
   "source": [
    "# uppg1 \n",
    "\n",
    "print(\"hej\")"
   ]
  },
  {
   "cell_type": "code",
   "execution_count": 14,
   "metadata": {
    "tags": []
   },
   "outputs": [
    {
     "output_type": "stream",
     "name": "stdout",
     "text": "20.0 Kelvin är (-253.0, 15) Celsius\n"
    }
   ],
   "source": [
    "# uppg 2\n",
    "Kelvin=float(input(\"Hur många kelvin?\"))\n",
    "Celsius = Kelvin-273,15\n",
    "print(Kelvin,\"Kelvin är\",Celsius,\"Celsius\")\n"
   ]
  },
  {
   "cell_type": "code",
   "execution_count": 25,
   "metadata": {
    "tags": []
   },
   "outputs": [
    {
     "output_type": "stream",
     "name": "stdout",
     "text": "20.0 Celsius är (-253.0, 15) Kelvin\n"
    }
   ],
   "source": [
    "# Uppg3\n",
    "Celsius=float(input(\"Hur många grader?\"))\n",
    "Kelvin=Celsius-273,15\n",
    "print(Celsius,\"Celsius är\",Kelvin, \"Kelvin\")"
   ]
  },
  {
   "cell_type": "code",
   "execution_count": 62,
   "metadata": {
    "tags": []
   },
   "outputs": [
    {
     "output_type": "stream",
     "name": "stdout",
     "text": "Om du åker 25.0 gånger får du betala 750.0 kr\nFortsätt betala engångsbiljetter :)\n"
    }
   ],
   "source": [
    "#uppg 4\n",
    "Antal=float(input(\"Hur många gånger åker du med västtrafik per månad?\"))\n",
    "Priset=Antal*30\n",
    "print(\"Om du åker\",Antal,\"gånger får du betala\" ,Priset,\"kr\")\n",
    "\n",
    "if Priset > 775:\n",
    "    print(\"Köp månadskort istället :)\") \n",
    "else: \n",
    "    print(\"Fortsätt betala engångsbiljetter :)\")"
   ]
  }
 ]
}