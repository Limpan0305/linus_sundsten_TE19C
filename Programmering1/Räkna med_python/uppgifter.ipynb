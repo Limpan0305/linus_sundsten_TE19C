{
 "metadata": {
  "language_info": {
   "codemirror_mode": {
    "name": "ipython",
    "version": 3
   },
   "file_extension": ".py",
   "mimetype": "text/x-python",
   "name": "python",
   "nbconvert_exporter": "python",
   "pygments_lexer": "ipython3",
   "version": "3.8.3-final"
  },
  "orig_nbformat": 2,
  "kernelspec": {
   "name": "python_defaultSpec_1599201060831",
   "display_name": "Python 3.8.3 64-bit ('base': conda)"
  }
 },
 "nbformat": 4,
 "nbformat_minor": 2,
 "cells": [
  {
   "cell_type": "code",
   "execution_count": 1,
   "metadata": {
    "tags": []
   },
   "outputs": [
    {
     "output_type": "stream",
     "name": "stdout",
     "text": "Hej\n"
    }
   ],
   "source": [
    "#Uppgift 0\n",
    "\n",
    "print(\"Hej\")\n",
    "\n"
   ]
  },
  {
   "cell_type": "code",
   "execution_count": 42,
   "metadata": {
    "tags": []
   },
   "outputs": [
    {
     "output_type": "stream",
     "name": "stdout",
     "text": "12-7=5\nsvar=12\n"
    }
   ],
   "source": [
    "#Uppgift 1) a.\n",
    "print(\"12-7=5\")\n",
    "print(\"svar=12\")"
   ]
  },
  {
   "cell_type": "code",
   "execution_count": 41,
   "metadata": {
    "tags": []
   },
   "outputs": [
    {
     "output_type": "stream",
     "name": "stdout",
     "text": "24/3+9=17\nsvar=17\n"
    }
   ],
   "source": [
    "#Uppgift 1) b. \n",
    "print(\"24/3+9=17\")\n",
    "print(\"svar=17\")"
   ]
  },
  {
   "cell_type": "code",
   "execution_count": 39,
   "metadata": {
    "tags": []
   },
   "outputs": [
    {
     "output_type": "stream",
     "name": "stdout",
     "text": "3*43=129\n129-2=127\nsvar=127\n"
    }
   ],
   "source": [
    "#uppgift c. \n",
    "3*43 - 2\n",
    "\n",
    "print(\"3*43=129\")\n",
    "print(\"129-2=127\")\n",
    "print(\"svar = 127\")"
   ]
  },
  {
   "cell_type": "code",
   "execution_count": 40,
   "metadata": {
    "tags": []
   },
   "outputs": [
    {
     "output_type": "stream",
     "name": "stdout",
     "text": "Hej! Hur mår du?\n"
    }
   ],
   "source": [
    "#Uppgift 2\n",
    "\n",
    "print(\"Hej! Hur mår du?\")"
   ]
  },
  {
   "cell_type": "code",
   "execution_count": 44,
   "metadata": {
    "tags": []
   },
   "outputs": [
    {
     "output_type": "stream",
     "name": "stdout",
     "text": "2 läsk=2*15=30\nsvar=30 kr\n"
    }
   ],
   "source": [
    "#Uppgift 3 a.\n",
    "\"Läsk=15 kr\" \n",
    "print(\"2 läsk=2*15=30\")\n",
    "print(\"svar=30 kr\")"
   ]
  },
  {
   "cell_type": "code",
   "execution_count": 49,
   "metadata": {
    "tags": []
   },
   "outputs": [
    {
     "output_type": "stream",
     "name": "stdout",
     "text": "2*15+29=59\nsvar=59 kr\n"
    }
   ],
   "source": [
    "#Uppgift 3.b.\n",
    "\"läsk=15 kr och hamburgare=29 kr\"\n",
    "print(\"2*15+29=59\")\n",
    "print(\"svar=59 kr\")"
   ]
  },
  {
   "cell_type": "code",
   "execution_count": 57,
   "metadata": {
    "tags": []
   },
   "outputs": [
    {
     "output_type": "stream",
     "name": "stdout",
     "text": "läsk=15 kr, hamburgare=29 kr och pommes=12 kr\n3*15+3*29+3*12=168\nsvar=168\n"
    }
   ],
   "source": [
    "#uppgift 3.c.\n",
    "print(\"läsk=15 kr, hamburgare=29 kr och pommes=12 kr\")\n",
    "print(\"3*15+3*29+3*12=168\")\n",
    "print(\"svar=168\")"
   ]
  },
  {
   "cell_type": "code",
   "execution_count": 61,
   "metadata": {
    "tags": []
   },
   "outputs": [
    {
     "output_type": "stream",
     "name": "stdout",
     "text": "9863\n"
    }
   ],
   "source": [
    "#uppgift 4\n",
    "print(219*45+8)"
   ]
  },
  {
   "cell_type": "code",
   "execution_count": 1,
   "metadata": {
    "tags": []
   },
   "outputs": [
    {
     "output_type": "stream",
     "name": "stdout",
     "text": "Om du kör med hastigheten 70 km/h i 1,5 timmar, så hinner du\n105.0\nkm.\n"
    }
   ],
   "source": [
    "#Uppgift 5\n",
    "print(\"Om du kör med hastigheten 70 km/h i 1,5 timmar, så hinner du\")\n",
    "print(70*1.5)\n",
    "print(\"km.\")"
   ]
  }
 ]
}