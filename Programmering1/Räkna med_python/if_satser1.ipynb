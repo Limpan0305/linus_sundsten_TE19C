{
 "metadata": {
  "language_info": {
   "codemirror_mode": {
    "name": "ipython",
    "version": 3
   },
   "file_extension": ".py",
   "mimetype": "text/x-python",
   "name": "python",
   "nbconvert_exporter": "python",
   "pygments_lexer": "ipython3",
   "version": "3.8.3-final"
  },
  "orig_nbformat": 2,
  "kernelspec": {
   "name": "python_defaultSpec_1600083973234",
   "display_name": "Python 3.8.3 64-bit ('base': conda)"
  }
 },
 "nbformat": 4,
 "nbformat_minor": 2,
 "cells": [
  {
   "cell_type": "code",
   "execution_count": 20,
   "metadata": {},
   "outputs": [],
   "source": [
    "# Jämt eller udda?\n",
    "\n",
    "*läs in ett tal och checka om det är jämnt eller udda"
   ]
  },
  {
   "cell_type": "code",
   "execution_count": 17,
   "metadata": {
    "tags": []
   },
   "outputs": [
    {
     "output_type": "stream",
     "name": "stdout",
     "text": "Talet är jämnt\n"
    }
   ],
   "source": [
    "tal = int(input(\"Ange ett heltal\")) #typomvandlar till int (heltal)\n",
    "\n",
    "\n",
    "# med % --> om tal%2 == 0 --> jämnt, annars udda\n",
    "if tal%2 == 0:\n",
    "    print(\"Talet är jämnt\")\n",
    "else:\n",
    "    print(\"Talet är udda\")"
   ]
  },
  {
   "cell_type": "code",
   "execution_count": null,
   "metadata": {},
   "outputs": [],
   "source": [
    "#Triangelns vinkel\n",
    "\n",
    "*spetsig\n",
    "*rät\n",
    "*trubbig\n",
    "*annat\n",
    "\n",
    "Spetsig: "
   ]
  },
  {
   "cell_type": "code",
   "execution_count": 14,
   "metadata": {
    "tags": []
   },
   "outputs": [
    {
     "output_type": "stream",
     "name": "stdout",
     "text": "Rät\nProgrammet fortsätter här\n"
    }
   ],
   "source": [
    "vinkel = float(input(\"Ange en vinkel v i grader. där 0 <= v <= 360:\"))\n",
    "\n",
    "if vinkel >= 0 and vinkel < 90:\n",
    "    print(\"Spetsig vinkel\")\n",
    "elif vinkel == 90:\n",
    "    print(\"Rät\")\n",
    "elif vinkel > 90 and vinkel < 180:\n",
    "    print(\"Trubbig vinkel\")\n",
    "else:\n",
    "    print(\"Vinkeln är inte spetsig, rät eller trubbig\")\n",
    "\n",
    "print(\"Programmet fortsätter här\")"
   ]
  },
  {
   "cell_type": "code",
   "execution_count": 31,
   "metadata": {
    "tags": []
   },
   "outputs": [
    {
     "output_type": "stream",
     "name": "stdout",
     "text": "Positivt\n"
    }
   ],
   "source": [
    "tal = float(input(\"Skriv vilket tal du vill\"))\n",
    "\n",
    "if tal < 0:\n",
    "    print(\"Negativt\")\n",
    "elif tal == 0:\n",
    "    print(\"Noll\")\n",
    "else:\n",
    "    print(\"Positivt\")\n"
   ]
  },
  {
   "source": [
    "# roligt program"
   ],
   "cell_type": "markdown",
   "metadata": {}
  },
  {
   "cell_type": "code",
   "execution_count": 1,
   "metadata": {
    "tags": []
   },
   "outputs": [
    {
     "output_type": "stream",
     "name": "stdout",
     "text": "Jag är cool\n"
    }
   ],
   "source": [
    "print(\"Jag är cool\")"
   ]
  },
  {
   "cell_type": "code",
   "execution_count": null,
   "metadata": {},
   "outputs": [],
   "source": []
  }
 ]
}