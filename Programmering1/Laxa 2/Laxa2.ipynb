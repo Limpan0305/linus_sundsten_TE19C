{
 "metadata": {
  "language_info": {
   "codemirror_mode": {
    "name": "ipython",
    "version": 3
   },
   "file_extension": ".py",
   "mimetype": "text/x-python",
   "name": "python",
   "nbconvert_exporter": "python",
   "pygments_lexer": "ipython3",
   "version": "3.8.3-final"
  },
  "orig_nbformat": 2,
  "kernelspec": {
   "name": "python_defaultSpec_1600255299384",
   "display_name": "Python 3.8.3 64-bit ('base': conda)"
  }
 },
 "nbformat": 4,
 "nbformat_minor": 2,
 "cells": [
  {
   "source": [
    "# Uppgifter"
   ],
   "cell_type": "markdown",
   "metadata": {}
  },
  {
   "cell_type": "code",
   "execution_count": 42,
   "metadata": {
    "tags": []
   },
   "outputs": [
    {
     "output_type": "stream",
     "name": "stdout",
     "text": "Talet är positivt\n"
    }
   ],
   "source": [
    "#Uppgift 1\n",
    "tal=float(input(\"Skriv ett tal\"))\n",
    "if tal == 0:\n",
    "    print(\"Talet är 0\")\n",
    "if tal > 0:\n",
    "    print(\"Talet är positivt\")\n",
    "if tal < 0:\n",
    "    print(\"Talet är negativt\")"
   ]
  },
  {
   "cell_type": "code",
   "execution_count": 21,
   "metadata": {
    "tags": []
   },
   "outputs": [
    {
     "output_type": "stream",
     "name": "stdout",
     "text": "Talet är jämnt\n"
    }
   ],
   "source": [
    "#Uppgift 2\n",
    "tal=float(input(\"Skriv valfritt positivt heltal\"))\n",
    "if tal%2 == 0: \n",
    "    print(\"Talet är jämnt\")\n",
    "elif tal%5 == 0:\n",
    "    print(\"Talet är delbart med 5\")\n",
    "else:\n",
    "    print(\"Talet är udda\")"
   ]
  },
  {
   "source": [
    "# Uppgift 3\n",
    "tal1=float(input(\"Skriv tal1\", ))\n",
    "tal2=float(input(\"Skriv tal2\", ))\n",
    "tal3=float(input(\"Skriv tal3\", ))\n",
    "tal4=float(input(\"Skriv tal4\", ))\n",
    "\n",
    "tal = [tal, tal2, tal3, tal4] \n",
    "\n",
    "print( \"Det största talet är\", max(tal)) "
   ],
   "cell_type": "code",
   "metadata": {
    "tags": []
   },
   "execution_count": 54,
   "outputs": [
    {
     "output_type": "stream",
     "name": "stdout",
     "text": "Det största talet är 5.0\n"
    }
   ]
  },
  {
   "cell_type": "code",
   "execution_count": 49,
   "metadata": {
    "tags": []
   },
   "outputs": [
    {
     "output_type": "stream",
     "name": "stdout",
     "text": "Vinkeln är inte spetsig, konvex, rak, rät eller trubbig\n"
    }
   ],
   "source": [
    "#Uppgift 4\n",
    "vinkel = float(input(\"Ange en vinkel v i grader. där 0 <= v <= 360:\"))\n",
    "\n",
    "if vinkel >= 0 and vinkel < 90:\n",
    "    print(\"Spetsig vinkel\")\n",
    "elif vinkel == 90:\n",
    "    print(\"Rät\")\n",
    "elif vinkel > 90 and vinkel < 180:\n",
    "    print(\"Trubbig vinkel\")\n",
    "elif vinkel == 180:\n",
    "    print(\"Rak\")\n",
    "elif vinkel > 180 and vinkel < 360:\n",
    "    print(\"Konvex\")\n",
    "else:\n",
    "    print(\"Vinkeln är inte spetsig, konvex, rak, rät eller trubbig\")\n"
   ]
  },
  {
   "cell_type": "code",
   "execution_count": null,
   "metadata": {},
   "outputs": [],
   "source": [
    "#Uppgift 5\n"
   ]
  }
 ]
}