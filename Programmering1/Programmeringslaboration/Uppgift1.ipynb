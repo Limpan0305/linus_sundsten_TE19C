{
 "metadata": {
  "language_info": {
   "codemirror_mode": {
    "name": "ipython",
    "version": 3
   },
   "file_extension": ".py",
   "mimetype": "text/x-python",
   "name": "python",
   "nbconvert_exporter": "python",
   "pygments_lexer": "ipython3",
   "version": "3.8.3-final"
  },
  "orig_nbformat": 2,
  "kernelspec": {
   "name": "Python 3.8.3 64-bit ('linus.sundsten': virtualenv)",
   "display_name": "Python 3.8.3 64-bit ('linus.sundsten': virtualenv)",
   "metadata": {
    "interpreter": {
     "hash": "8f4b7e7bd44cf3a98f2b8880affc164a366bad1c9eb8125263ff76f92c3f7206"
    }
   }
  }
 },
 "nbformat": 4,
 "nbformat_minor": 2,
 "cells": [
  {
   "source": [
    "# 1a\n",
    "## Räkna avståndet från origo till (0.5, 0.5) räknas ut med pythagoras sats ((0.5^2)(0.5^2))=(x^2)"
   ],
   "cell_type": "markdown",
   "metadata": {}
  },
  {
   "cell_type": "code",
   "execution_count": 7,
   "metadata": {},
   "outputs": [
    {
     "output_type": "stream",
     "name": "stdout",
     "text": [
      "Avståndet från origo till (0.5, 0.5) är 0.71 längdenheter\n"
     ]
    }
   ],
   "source": [
    "import math\n",
    "x = 0.5\n",
    "y = 0.5\n",
    "s = math.sqrt ((y**2) + (x**2)) \n",
    "\n",
    "print(f\"Avståndet från origo till (0.5, 0.5) är {s:.2f} längdenheter\")\n"
   ]
  },
  {
   "source": [
    "# 1b\n",
    "## Räkna avståndet från origo till (1, 1) räknas ut med pythagoras sats ((1^2)(1^2))=(x^2)"
   ],
   "cell_type": "markdown",
   "metadata": {}
  },
  {
   "cell_type": "code",
   "execution_count": 8,
   "metadata": {},
   "outputs": [
    {
     "output_type": "stream",
     "name": "stdout",
     "text": [
      "Avståndet från origo till (1, 1) är 1.41 längdenheter\n"
     ]
    }
   ],
   "source": [
    "import math\n",
    "x = 1\n",
    "y = 1\n",
    "s = math.sqrt ((y**2) + (x**2)) \n",
    "\n",
    "print(f\"Avståndet från origo till (1, 1) är {s:.2f} längdenheter\")"
   ]
  },
  {
   "source": [
    "# 1c\n",
    "## Räkna avståndet från origo till ((-o.5), (-0.5)) räknas ut med pythagoras sats (((-0.5)^2)((-0.5)^2))=(x^2)"
   ],
   "cell_type": "markdown",
   "metadata": {}
  },
  {
   "cell_type": "code",
   "execution_count": 9,
   "metadata": {},
   "outputs": [
    {
     "output_type": "stream",
     "name": "stdout",
     "text": [
      "Avståndet från origo till ((-0.5), (-0.5)) är 0.71 längdenheter\n"
     ]
    }
   ],
   "source": [
    "import math\n",
    "x = (-0.5)\n",
    "y = (-0.5)\n",
    "s = math.sqrt ((y**2) + (x**2)) \n",
    "\n",
    "print(f\"Avståndet från origo till ((-0.5), (-0.5)) är {s:.2f} längdenheter\")"
   ]
  }
 ]
}